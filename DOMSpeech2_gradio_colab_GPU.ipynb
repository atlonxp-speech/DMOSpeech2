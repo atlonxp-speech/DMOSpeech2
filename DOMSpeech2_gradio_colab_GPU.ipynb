{
  "nbformat": 4,
  "nbformat_minor": 0,
  "metadata": {
    "colab": {
      "provenance": [],
      "gpuType": "T4"
    },
    "kernelspec": {
      "name": "python3",
      "display_name": "Python 3"
    },
    "language_info": {
      "name": "python"
    },
    "accelerator": "GPU"
  },
  "cells": [
    {
      "cell_type": "markdown",
      "source": [
        "1 of 6: install correct Python version; setup virtual environment; install pip\n"
      ],
      "metadata": {
        "id": "BmSv_cpUFaeH"
      }
    },
    {
      "cell_type": "code",
      "source": [
        "!apt-get update -y\n",
        "!apt-get install python3.10 python3.10-distutils python3.10-venv -y\n"
      ],
      "metadata": {
        "colab": {
          "base_uri": "https://localhost:8080/"
        },
        "id": "0ANV_E-dnX_y",
        "outputId": "b3b3cbfd-27ab-4feb-fd6b-0080b4265407"
      },
      "execution_count": 1,
      "outputs": [
        {
          "output_type": "stream",
          "name": "stdout",
          "text": [
            "\r0% [Working]\r            \rHit:1 https://cloud.r-project.org/bin/linux/ubuntu jammy-cran40/ InRelease\n",
            "\r0% [Connecting to archive.ubuntu.com (185.125.190.83)] [Waiting for headers] [C\r                                                                               \rGet:2 http://security.ubuntu.com/ubuntu jammy-security InRelease [129 kB]\n",
            "Hit:3 https://developer.download.nvidia.com/compute/cuda/repos/ubuntu2204/x86_64  InRelease\n",
            "Hit:4 https://r2u.stat.illinois.edu/ubuntu jammy InRelease\n",
            "Hit:5 http://archive.ubuntu.com/ubuntu jammy InRelease\n",
            "Get:6 http://archive.ubuntu.com/ubuntu jammy-updates InRelease [128 kB]\n",
            "Hit:7 https://ppa.launchpadcontent.net/deadsnakes/ppa/ubuntu jammy InRelease\n",
            "Hit:8 https://ppa.launchpadcontent.net/graphics-drivers/ppa/ubuntu jammy InRelease\n",
            "Hit:9 https://ppa.launchpadcontent.net/ubuntugis/ppa/ubuntu jammy InRelease\n",
            "Get:10 http://archive.ubuntu.com/ubuntu jammy-backports InRelease [127 kB]\n",
            "Fetched 384 kB in 2s (174 kB/s)\n",
            "Reading package lists... Done\n",
            "W: Skipping acquire of configured file 'main/source/Sources' as repository 'https://r2u.stat.illinois.edu/ubuntu jammy InRelease' does not seem to provide it (sources.list entry misspelt?)\n",
            "Reading package lists... Done\n",
            "Building dependency tree... Done\n",
            "Reading state information... Done\n",
            "Note, selecting 'python3-distutils' instead of 'python3.10-distutils'\n",
            "python3-distutils is already the newest version (3.10.8-1~22.04).\n",
            "python3.10 is already the newest version (3.10.12-1~22.04.10).\n",
            "python3.10-venv is already the newest version (3.10.12-1~22.04.10).\n",
            "0 upgraded, 0 newly installed, 0 to remove and 35 not upgraded.\n"
          ]
        }
      ]
    },
    {
      "cell_type": "code",
      "source": [
        "!python3.10 -m venv /content/dmo_env\n"
      ],
      "metadata": {
        "id": "OPHkJFein2wD"
      },
      "execution_count": 2,
      "outputs": []
    },
    {
      "cell_type": "code",
      "source": [
        "%%bash\n",
        "source /content/dmo_env/bin/activate\n",
        "\n",
        "# Explicitly install pip within your existing venv\n",
        "python -m ensurepip --upgrade\n",
        "\n",
        "# Explicitly verify pip installation\n",
        "which pip\n",
        "pip --version\n"
      ],
      "metadata": {
        "colab": {
          "base_uri": "https://localhost:8080/"
        },
        "id": "96OeE6-YnX6G",
        "outputId": "060ac72f-6c95-416b-a9a1-bd034887be82"
      },
      "execution_count": 3,
      "outputs": [
        {
          "output_type": "stream",
          "name": "stdout",
          "text": [
            "Looking in links: /tmp/tmpmyfldebt\n",
            "Requirement already satisfied: setuptools in ./dmo_env/lib/python3.10/site-packages (68.1.2)\n",
            "Requirement already satisfied: pip in ./dmo_env/lib/python3.10/site-packages (22.0.2)\n",
            "/content/dmo_env/bin/pip\n",
            "pip 22.0.2 from /content/dmo_env/lib/python3.10/site-packages/pip (python 3.10)\n"
          ]
        }
      ]
    },
    {
      "cell_type": "markdown",
      "source": [
        "2 of 6: ensure GPU is available (e.g., runtime= \"Connect T4\") before cloning/downloading; show initial state of GPU"
      ],
      "metadata": {
        "id": "AyHITIWMFn6F"
      }
    },
    {
      "cell_type": "code",
      "execution_count": 4,
      "metadata": {
        "colab": {
          "base_uri": "https://localhost:8080/"
        },
        "id": "klnBtajqEfMG",
        "outputId": "c17fb663-d4d6-4b0a-dc4d-3fa417536ab5"
      },
      "outputs": [
        {
          "output_type": "stream",
          "name": "stdout",
          "text": [
            "✅ GPU is available: Tesla T4\n"
          ]
        }
      ],
      "source": [
        "# GPU check explicitly\n",
        "import torch\n",
        "\n",
        "if torch.cuda.is_available():\n",
        "    device_name = torch.cuda.get_device_name(0)\n",
        "    print(f\"✅ GPU is available: {device_name}\")\n",
        "else:\n",
        "    print(\"❌ GPU is not available. Ensure GPU runtime is enabled.\")\n"
      ]
    },
    {
      "cell_type": "code",
      "source": [
        "!nvidia-smi"
      ],
      "metadata": {
        "colab": {
          "base_uri": "https://localhost:8080/"
        },
        "id": "YLA_9M-yEwew",
        "outputId": "41af8cd1-febf-4e8d-9fa4-15567e69239d"
      },
      "execution_count": 5,
      "outputs": [
        {
          "output_type": "stream",
          "name": "stdout",
          "text": [
            "Fri Jul 25 19:45:21 2025       \n",
            "+-----------------------------------------------------------------------------------------+\n",
            "| NVIDIA-SMI 550.54.15              Driver Version: 550.54.15      CUDA Version: 12.4     |\n",
            "|-----------------------------------------+------------------------+----------------------+\n",
            "| GPU  Name                 Persistence-M | Bus-Id          Disp.A | Volatile Uncorr. ECC |\n",
            "| Fan  Temp   Perf          Pwr:Usage/Cap |           Memory-Usage | GPU-Util  Compute M. |\n",
            "|                                         |                        |               MIG M. |\n",
            "|=========================================+========================+======================|\n",
            "|   0  Tesla T4                       Off |   00000000:00:04.0 Off |                    0 |\n",
            "| N/A   58C    P8             10W /   70W |       2MiB /  15360MiB |      0%      Default |\n",
            "|                                         |                        |                  N/A |\n",
            "+-----------------------------------------+------------------------+----------------------+\n",
            "                                                                                         \n",
            "+-----------------------------------------------------------------------------------------+\n",
            "| Processes:                                                                              |\n",
            "|  GPU   GI   CI        PID   Type   Process name                              GPU Memory |\n",
            "|        ID   ID                                                               Usage      |\n",
            "|=========================================================================================|\n",
            "|  No running processes found                                                             |\n",
            "+-----------------------------------------------------------------------------------------+\n"
          ]
        }
      ]
    },
    {
      "cell_type": "markdown",
      "source": [
        "3 of 6: clone (fork of) DMOSpeech2"
      ],
      "metadata": {
        "id": "QFR7jrHdF43y"
      }
    },
    {
      "cell_type": "code",
      "source": [
        "import os\n",
        "\n",
        "# Explicitly move to a known good directory\n",
        "os.chdir('/content')\n",
        "\n",
        "# Verify explicitly you're back in a good state\n",
        "print(\"Current working directory explicitly set to:\", os.getcwd())\n",
        "\n",
        "!git clone https://github.com/wrightmikea/DMOSpeech2.git\n",
        "%cd DMOSpeech2\n",
        "!echo \"pwd=`pwd`\""
      ],
      "metadata": {
        "id": "vLkhec1bF0NJ",
        "colab": {
          "base_uri": "https://localhost:8080/"
        },
        "outputId": "7d452b1e-fd52-423a-b891-7f6beb4bebe4"
      },
      "execution_count": 6,
      "outputs": [
        {
          "output_type": "stream",
          "name": "stdout",
          "text": [
            "Current working directory explicitly set to: /content\n",
            "fatal: destination path 'DMOSpeech2' already exists and is not an empty directory.\n",
            "/content/DMOSpeech2\n",
            "pwd=/content/DMOSpeech2\n"
          ]
        }
      ]
    },
    {
      "cell_type": "markdown",
      "source": [
        "4 of 6: install requirements into activated virtual environment"
      ],
      "metadata": {
        "id": "td4jzBA6Kzs1"
      }
    },
    {
      "cell_type": "code",
      "source": [
        "\n",
        "!source /content/dmo_env/bin/activate && pip install -r requirements.txt\n"
      ],
      "metadata": {
        "colab": {
          "base_uri": "https://localhost:8080/"
        },
        "id": "txQY2CUZkVkJ",
        "outputId": "c04a7126-8436-4e80-a5b3-d073b7b83c99"
      },
      "execution_count": 7,
      "outputs": [
        {
          "output_type": "stream",
          "name": "stdout",
          "text": [
            "Looking in indexes: https://pypi.org/simple, https://download.pytorch.org/whl/cu121\n",
            "Requirement already satisfied: torch==2.2.2+cu121 in /content/dmo_env/lib/python3.10/site-packages (from -r requirements.txt (line 4)) (2.2.2+cu121)\n",
            "Requirement already satisfied: torchvision==0.17.2+cu121 in /content/dmo_env/lib/python3.10/site-packages (from -r requirements.txt (line 5)) (0.17.2+cu121)\n",
            "Requirement already satisfied: torchaudio==2.2.2+cu121 in /content/dmo_env/lib/python3.10/site-packages (from -r requirements.txt (line 6)) (2.2.2+cu121)\n",
            "Requirement already satisfied: accelerate>=0.33.0 in /content/dmo_env/lib/python3.10/site-packages (from -r requirements.txt (line 9)) (1.9.0)\n",
            "Requirement already satisfied: bitsandbytes>0.37.0 in /content/dmo_env/lib/python3.10/site-packages (from -r requirements.txt (line 11)) (0.46.1)\n",
            "Requirement already satisfied: cached_path in /content/dmo_env/lib/python3.10/site-packages (from -r requirements.txt (line 12)) (1.7.3)\n",
            "Requirement already satisfied: click in /content/dmo_env/lib/python3.10/site-packages (from -r requirements.txt (line 13)) (8.2.1)\n",
            "Requirement already satisfied: datasets in /content/dmo_env/lib/python3.10/site-packages (from -r requirements.txt (line 14)) (2.19.2)\n",
            "Requirement already satisfied: pyarrow<15.0.0 in /content/dmo_env/lib/python3.10/site-packages (from -r requirements.txt (line 15)) (14.0.2)\n",
            "Requirement already satisfied: ema_pytorch>=0.5.2 in /content/dmo_env/lib/python3.10/site-packages (from -r requirements.txt (line 16)) (0.7.7)\n",
            "Requirement already satisfied: gradio>=3.45.2 in /content/dmo_env/lib/python3.10/site-packages (from -r requirements.txt (line 17)) (5.38.2)\n",
            "Requirement already satisfied: hydra-core>=1.3.0 in /content/dmo_env/lib/python3.10/site-packages (from -r requirements.txt (line 18)) (1.3.2)\n",
            "Requirement already satisfied: jieba in /content/dmo_env/lib/python3.10/site-packages (from -r requirements.txt (line 19)) (0.42.1)\n",
            "Requirement already satisfied: librosa in /content/dmo_env/lib/python3.10/site-packages (from -r requirements.txt (line 20)) (0.11.0)\n",
            "Requirement already satisfied: matplotlib in /content/dmo_env/lib/python3.10/site-packages (from -r requirements.txt (line 21)) (3.10.3)\n",
            "Requirement already satisfied: numpy<=1.26.4 in /content/dmo_env/lib/python3.10/site-packages (from -r requirements.txt (line 22)) (1.26.4)\n",
            "Requirement already satisfied: pydantic<=2.10.6 in /content/dmo_env/lib/python3.10/site-packages (from -r requirements.txt (line 23)) (2.10.6)\n",
            "Requirement already satisfied: pydub in /content/dmo_env/lib/python3.10/site-packages (from -r requirements.txt (line 24)) (0.25.1)\n",
            "Requirement already satisfied: pypinyin in /content/dmo_env/lib/python3.10/site-packages (from -r requirements.txt (line 25)) (0.55.0)\n",
            "Requirement already satisfied: safetensors in /content/dmo_env/lib/python3.10/site-packages (from -r requirements.txt (line 26)) (0.5.3)\n",
            "Requirement already satisfied: soundfile in /content/dmo_env/lib/python3.10/site-packages (from -r requirements.txt (line 27)) (0.13.1)\n",
            "Requirement already satisfied: tomli in /content/dmo_env/lib/python3.10/site-packages (from -r requirements.txt (line 28)) (2.2.1)\n",
            "Requirement already satisfied: torchdiffeq in /content/dmo_env/lib/python3.10/site-packages (from -r requirements.txt (line 29)) (0.2.5)\n",
            "Requirement already satisfied: tqdm>=4.65.0 in /content/dmo_env/lib/python3.10/site-packages (from -r requirements.txt (line 30)) (4.67.1)\n",
            "Requirement already satisfied: transformers in /content/dmo_env/lib/python3.10/site-packages (from -r requirements.txt (line 31)) (4.53.3)\n",
            "Requirement already satisfied: transformers_stream_generator in /content/dmo_env/lib/python3.10/site-packages (from -r requirements.txt (line 32)) (0.0.5)\n",
            "Requirement already satisfied: unidecode in /content/dmo_env/lib/python3.10/site-packages (from -r requirements.txt (line 33)) (1.4.0)\n",
            "Requirement already satisfied: vocos in /content/dmo_env/lib/python3.10/site-packages (from -r requirements.txt (line 34)) (0.1.0)\n",
            "Requirement already satisfied: wandb in /content/dmo_env/lib/python3.10/site-packages (from -r requirements.txt (line 35)) (0.21.0)\n",
            "Requirement already satisfied: x_transformers>=1.31.14 in /content/dmo_env/lib/python3.10/site-packages (from -r requirements.txt (line 36)) (2.4.14)\n",
            "Requirement already satisfied: ipython in /content/dmo_env/lib/python3.10/site-packages (from -r requirements.txt (line 46)) (8.37.0)\n",
            "Requirement already satisfied: jupyterlab in /content/dmo_env/lib/python3.10/site-packages (from -r requirements.txt (line 47)) (4.4.5)\n",
            "Requirement already satisfied: networkx in /content/dmo_env/lib/python3.10/site-packages (from torch==2.2.2+cu121->-r requirements.txt (line 4)) (3.4.2)\n",
            "Requirement already satisfied: nvidia-nccl-cu12==2.19.3 in /content/dmo_env/lib/python3.10/site-packages (from torch==2.2.2+cu121->-r requirements.txt (line 4)) (2.19.3)\n",
            "Requirement already satisfied: nvidia-cuda-nvrtc-cu12==12.1.105 in /content/dmo_env/lib/python3.10/site-packages (from torch==2.2.2+cu121->-r requirements.txt (line 4)) (12.1.105)\n",
            "Requirement already satisfied: nvidia-cuda-runtime-cu12==12.1.105 in /content/dmo_env/lib/python3.10/site-packages (from torch==2.2.2+cu121->-r requirements.txt (line 4)) (12.1.105)\n",
            "Requirement already satisfied: nvidia-curand-cu12==10.3.2.106 in /content/dmo_env/lib/python3.10/site-packages (from torch==2.2.2+cu121->-r requirements.txt (line 4)) (10.3.2.106)\n",
            "Requirement already satisfied: nvidia-cufft-cu12==11.0.2.54 in /content/dmo_env/lib/python3.10/site-packages (from torch==2.2.2+cu121->-r requirements.txt (line 4)) (11.0.2.54)\n",
            "Requirement already satisfied: nvidia-cusparse-cu12==12.1.0.106 in /content/dmo_env/lib/python3.10/site-packages (from torch==2.2.2+cu121->-r requirements.txt (line 4)) (12.1.0.106)\n",
            "Requirement already satisfied: nvidia-cudnn-cu12==8.9.2.26 in /content/dmo_env/lib/python3.10/site-packages (from torch==2.2.2+cu121->-r requirements.txt (line 4)) (8.9.2.26)\n",
            "Requirement already satisfied: nvidia-nvtx-cu12==12.1.105 in /content/dmo_env/lib/python3.10/site-packages (from torch==2.2.2+cu121->-r requirements.txt (line 4)) (12.1.105)\n",
            "Requirement already satisfied: jinja2 in /content/dmo_env/lib/python3.10/site-packages (from torch==2.2.2+cu121->-r requirements.txt (line 4)) (3.1.6)\n",
            "Requirement already satisfied: fsspec in /content/dmo_env/lib/python3.10/site-packages (from torch==2.2.2+cu121->-r requirements.txt (line 4)) (2024.3.1)\n",
            "Requirement already satisfied: nvidia-cusolver-cu12==11.4.5.107 in /content/dmo_env/lib/python3.10/site-packages (from torch==2.2.2+cu121->-r requirements.txt (line 4)) (11.4.5.107)\n",
            "Requirement already satisfied: filelock in /content/dmo_env/lib/python3.10/site-packages (from torch==2.2.2+cu121->-r requirements.txt (line 4)) (3.18.0)\n",
            "Requirement already satisfied: typing-extensions>=4.8.0 in /content/dmo_env/lib/python3.10/site-packages (from torch==2.2.2+cu121->-r requirements.txt (line 4)) (4.14.1)\n",
            "Requirement already satisfied: sympy in /content/dmo_env/lib/python3.10/site-packages (from torch==2.2.2+cu121->-r requirements.txt (line 4)) (1.14.0)\n",
            "Requirement already satisfied: nvidia-cublas-cu12==12.1.3.1 in /content/dmo_env/lib/python3.10/site-packages (from torch==2.2.2+cu121->-r requirements.txt (line 4)) (12.1.3.1)\n",
            "Requirement already satisfied: nvidia-cuda-cupti-cu12==12.1.105 in /content/dmo_env/lib/python3.10/site-packages (from torch==2.2.2+cu121->-r requirements.txt (line 4)) (12.1.105)\n",
            "Requirement already satisfied: triton==2.2.0 in /content/dmo_env/lib/python3.10/site-packages (from torch==2.2.2+cu121->-r requirements.txt (line 4)) (2.2.0)\n",
            "Requirement already satisfied: pillow!=8.3.*,>=5.3.0 in /content/dmo_env/lib/python3.10/site-packages (from torchvision==0.17.2+cu121->-r requirements.txt (line 5)) (11.3.0)\n",
            "Requirement already satisfied: nvidia-nvjitlink-cu12 in /content/dmo_env/lib/python3.10/site-packages (from nvidia-cusolver-cu12==11.4.5.107->torch==2.2.2+cu121->-r requirements.txt (line 4)) (12.9.86)\n",
            "Requirement already satisfied: huggingface_hub>=0.21.0 in /content/dmo_env/lib/python3.10/site-packages (from accelerate>=0.33.0->-r requirements.txt (line 9)) (0.34.1)\n",
            "Requirement already satisfied: pyyaml in /content/dmo_env/lib/python3.10/site-packages (from accelerate>=0.33.0->-r requirements.txt (line 9)) (6.0.2)\n",
            "Requirement already satisfied: packaging>=20.0 in /content/dmo_env/lib/python3.10/site-packages (from accelerate>=0.33.0->-r requirements.txt (line 9)) (25.0)\n",
            "Requirement already satisfied: psutil in /content/dmo_env/lib/python3.10/site-packages (from accelerate>=0.33.0->-r requirements.txt (line 9)) (7.0.0)\n",
            "Requirement already satisfied: google-cloud-storage<3.0,>=1.32.0 in /content/dmo_env/lib/python3.10/site-packages (from cached_path->-r requirements.txt (line 12)) (2.19.0)\n",
            "Requirement already satisfied: requests in /content/dmo_env/lib/python3.10/site-packages (from cached_path->-r requirements.txt (line 12)) (2.32.4)\n",
            "Requirement already satisfied: boto3<2.0,>=1.0 in /content/dmo_env/lib/python3.10/site-packages (from cached_path->-r requirements.txt (line 12)) (1.39.13)\n",
            "Requirement already satisfied: rich<14.0,>=12.1 in /content/dmo_env/lib/python3.10/site-packages (from cached_path->-r requirements.txt (line 12)) (13.9.4)\n",
            "Requirement already satisfied: dill<0.3.9,>=0.3.0 in /content/dmo_env/lib/python3.10/site-packages (from datasets->-r requirements.txt (line 14)) (0.3.8)\n",
            "Requirement already satisfied: pyarrow-hotfix in /content/dmo_env/lib/python3.10/site-packages (from datasets->-r requirements.txt (line 14)) (0.7)\n",
            "Requirement already satisfied: pandas in /content/dmo_env/lib/python3.10/site-packages (from datasets->-r requirements.txt (line 14)) (2.3.1)\n",
            "Requirement already satisfied: aiohttp in /content/dmo_env/lib/python3.10/site-packages (from datasets->-r requirements.txt (line 14)) (3.12.14)\n",
            "Requirement already satisfied: multiprocess in /content/dmo_env/lib/python3.10/site-packages (from datasets->-r requirements.txt (line 14)) (0.70.16)\n",
            "Requirement already satisfied: xxhash in /content/dmo_env/lib/python3.10/site-packages (from datasets->-r requirements.txt (line 14)) (3.5.0)\n",
            "Requirement already satisfied: anyio<5.0,>=3.0 in /content/dmo_env/lib/python3.10/site-packages (from gradio>=3.45.2->-r requirements.txt (line 17)) (4.9.0)\n",
            "Requirement already satisfied: aiofiles<25.0,>=22.0 in /content/dmo_env/lib/python3.10/site-packages (from gradio>=3.45.2->-r requirements.txt (line 17)) (24.1.0)\n",
            "Requirement already satisfied: httpx<1.0,>=0.24.1 in /content/dmo_env/lib/python3.10/site-packages (from gradio>=3.45.2->-r requirements.txt (line 17)) (0.28.1)\n",
            "Requirement already satisfied: uvicorn>=0.14.0 in /content/dmo_env/lib/python3.10/site-packages (from gradio>=3.45.2->-r requirements.txt (line 17)) (0.35.0)\n",
            "Requirement already satisfied: brotli>=1.1.0 in /content/dmo_env/lib/python3.10/site-packages (from gradio>=3.45.2->-r requirements.txt (line 17)) (1.1.0)\n",
            "Requirement already satisfied: orjson~=3.0 in /content/dmo_env/lib/python3.10/site-packages (from gradio>=3.45.2->-r requirements.txt (line 17)) (3.11.1)\n",
            "Requirement already satisfied: starlette<1.0,>=0.40.0 in /content/dmo_env/lib/python3.10/site-packages (from gradio>=3.45.2->-r requirements.txt (line 17)) (0.47.2)\n",
            "Requirement already satisfied: safehttpx<0.2.0,>=0.1.6 in /content/dmo_env/lib/python3.10/site-packages (from gradio>=3.45.2->-r requirements.txt (line 17)) (0.1.6)\n",
            "Requirement already satisfied: typer<1.0,>=0.12 in /content/dmo_env/lib/python3.10/site-packages (from gradio>=3.45.2->-r requirements.txt (line 17)) (0.16.0)\n",
            "Requirement already satisfied: python-multipart>=0.0.18 in /content/dmo_env/lib/python3.10/site-packages (from gradio>=3.45.2->-r requirements.txt (line 17)) (0.0.20)\n",
            "Requirement already satisfied: ffmpy in /content/dmo_env/lib/python3.10/site-packages (from gradio>=3.45.2->-r requirements.txt (line 17)) (0.6.1)\n",
            "Requirement already satisfied: gradio-client==1.11.0 in /content/dmo_env/lib/python3.10/site-packages (from gradio>=3.45.2->-r requirements.txt (line 17)) (1.11.0)\n",
            "Requirement already satisfied: tomlkit<0.14.0,>=0.12.0 in /content/dmo_env/lib/python3.10/site-packages (from gradio>=3.45.2->-r requirements.txt (line 17)) (0.13.3)\n",
            "Requirement already satisfied: ruff>=0.9.3 in /content/dmo_env/lib/python3.10/site-packages (from gradio>=3.45.2->-r requirements.txt (line 17)) (0.12.5)\n",
            "Requirement already satisfied: fastapi<1.0,>=0.115.2 in /content/dmo_env/lib/python3.10/site-packages (from gradio>=3.45.2->-r requirements.txt (line 17)) (0.116.1)\n",
            "Requirement already satisfied: groovy~=0.1 in /content/dmo_env/lib/python3.10/site-packages (from gradio>=3.45.2->-r requirements.txt (line 17)) (0.1.2)\n",
            "Requirement already satisfied: semantic-version~=2.0 in /content/dmo_env/lib/python3.10/site-packages (from gradio>=3.45.2->-r requirements.txt (line 17)) (2.10.0)\n",
            "Requirement already satisfied: markupsafe<4.0,>=2.0 in /content/dmo_env/lib/python3.10/site-packages (from gradio>=3.45.2->-r requirements.txt (line 17)) (3.0.2)\n",
            "Requirement already satisfied: websockets<16.0,>=10.0 in /content/dmo_env/lib/python3.10/site-packages (from gradio-client==1.11.0->gradio>=3.45.2->-r requirements.txt (line 17)) (15.0.1)\n",
            "Requirement already satisfied: omegaconf<2.4,>=2.2 in /content/dmo_env/lib/python3.10/site-packages (from hydra-core>=1.3.0->-r requirements.txt (line 18)) (2.3.0)\n",
            "Requirement already satisfied: antlr4-python3-runtime==4.9.* in /content/dmo_env/lib/python3.10/site-packages (from hydra-core>=1.3.0->-r requirements.txt (line 18)) (4.9.3)\n",
            "Requirement already satisfied: numba>=0.51.0 in /content/dmo_env/lib/python3.10/site-packages (from librosa->-r requirements.txt (line 20)) (0.61.2)\n",
            "Requirement already satisfied: decorator>=4.3.0 in /content/dmo_env/lib/python3.10/site-packages (from librosa->-r requirements.txt (line 20)) (5.2.1)\n",
            "Requirement already satisfied: scipy>=1.6.0 in /content/dmo_env/lib/python3.10/site-packages (from librosa->-r requirements.txt (line 20)) (1.15.3)\n",
            "Requirement already satisfied: msgpack>=1.0 in /content/dmo_env/lib/python3.10/site-packages (from librosa->-r requirements.txt (line 20)) (1.1.1)\n",
            "Requirement already satisfied: soxr>=0.3.2 in /content/dmo_env/lib/python3.10/site-packages (from librosa->-r requirements.txt (line 20)) (0.5.0.post1)\n",
            "Requirement already satisfied: joblib>=1.0 in /content/dmo_env/lib/python3.10/site-packages (from librosa->-r requirements.txt (line 20)) (1.5.1)\n",
            "Requirement already satisfied: audioread>=2.1.9 in /content/dmo_env/lib/python3.10/site-packages (from librosa->-r requirements.txt (line 20)) (3.0.1)\n",
            "Requirement already satisfied: lazy_loader>=0.1 in /content/dmo_env/lib/python3.10/site-packages (from librosa->-r requirements.txt (line 20)) (0.4)\n",
            "Requirement already satisfied: scikit-learn>=1.1.0 in /content/dmo_env/lib/python3.10/site-packages (from librosa->-r requirements.txt (line 20)) (1.7.1)\n",
            "Requirement already satisfied: pooch>=1.1 in /content/dmo_env/lib/python3.10/site-packages (from librosa->-r requirements.txt (line 20)) (1.8.2)\n",
            "Requirement already satisfied: contourpy>=1.0.1 in /content/dmo_env/lib/python3.10/site-packages (from matplotlib->-r requirements.txt (line 21)) (1.3.2)\n",
            "Requirement already satisfied: cycler>=0.10 in /content/dmo_env/lib/python3.10/site-packages (from matplotlib->-r requirements.txt (line 21)) (0.12.1)\n",
            "Requirement already satisfied: fonttools>=4.22.0 in /content/dmo_env/lib/python3.10/site-packages (from matplotlib->-r requirements.txt (line 21)) (4.59.0)\n",
            "Requirement already satisfied: kiwisolver>=1.3.1 in /content/dmo_env/lib/python3.10/site-packages (from matplotlib->-r requirements.txt (line 21)) (1.4.8)\n",
            "Requirement already satisfied: python-dateutil>=2.7 in /content/dmo_env/lib/python3.10/site-packages (from matplotlib->-r requirements.txt (line 21)) (2.9.0.post0)\n",
            "Requirement already satisfied: pyparsing>=2.3.1 in /content/dmo_env/lib/python3.10/site-packages (from matplotlib->-r requirements.txt (line 21)) (3.2.3)\n",
            "Requirement already satisfied: annotated-types>=0.6.0 in /content/dmo_env/lib/python3.10/site-packages (from pydantic<=2.10.6->-r requirements.txt (line 23)) (0.7.0)\n",
            "Requirement already satisfied: pydantic-core==2.27.2 in /content/dmo_env/lib/python3.10/site-packages (from pydantic<=2.10.6->-r requirements.txt (line 23)) (2.27.2)\n",
            "Requirement already satisfied: cffi>=1.0 in /content/dmo_env/lib/python3.10/site-packages (from soundfile->-r requirements.txt (line 27)) (1.17.1)\n",
            "Requirement already satisfied: tokenizers<0.22,>=0.21 in /content/dmo_env/lib/python3.10/site-packages (from transformers->-r requirements.txt (line 31)) (0.21.2)\n",
            "Requirement already satisfied: regex!=2019.12.17 in /content/dmo_env/lib/python3.10/site-packages (from transformers->-r requirements.txt (line 31)) (2024.11.6)\n",
            "Requirement already satisfied: encodec==0.1.1 in /content/dmo_env/lib/python3.10/site-packages (from vocos->-r requirements.txt (line 34)) (0.1.1)\n",
            "Requirement already satisfied: einops in /content/dmo_env/lib/python3.10/site-packages (from vocos->-r requirements.txt (line 34)) (0.8.1)\n",
            "Requirement already satisfied: gitpython!=3.1.29,>=1.0.0 in /content/dmo_env/lib/python3.10/site-packages (from wandb->-r requirements.txt (line 35)) (3.1.45)\n",
            "Requirement already satisfied: platformdirs in /content/dmo_env/lib/python3.10/site-packages (from wandb->-r requirements.txt (line 35)) (4.3.8)\n",
            "Requirement already satisfied: protobuf!=4.21.0,!=5.28.0,<7,>=3.19.0 in /content/dmo_env/lib/python3.10/site-packages (from wandb->-r requirements.txt (line 35)) (6.31.1)\n",
            "Requirement already satisfied: sentry-sdk>=2.0.0 in /content/dmo_env/lib/python3.10/site-packages (from wandb->-r requirements.txt (line 35)) (2.33.2)\n",
            "Requirement already satisfied: loguru in /content/dmo_env/lib/python3.10/site-packages (from x_transformers>=1.31.14->-r requirements.txt (line 36)) (0.7.3)\n",
            "Requirement already satisfied: einx>=0.3.0 in /content/dmo_env/lib/python3.10/site-packages (from x_transformers>=1.31.14->-r requirements.txt (line 36)) (0.3.0)\n",
            "Requirement already satisfied: pexpect>4.3 in /content/dmo_env/lib/python3.10/site-packages (from ipython->-r requirements.txt (line 46)) (4.9.0)\n",
            "Requirement already satisfied: stack_data in /content/dmo_env/lib/python3.10/site-packages (from ipython->-r requirements.txt (line 46)) (0.6.3)\n",
            "Requirement already satisfied: traitlets>=5.13.0 in /content/dmo_env/lib/python3.10/site-packages (from ipython->-r requirements.txt (line 46)) (5.14.3)\n",
            "Requirement already satisfied: exceptiongroup in /content/dmo_env/lib/python3.10/site-packages (from ipython->-r requirements.txt (line 46)) (1.3.0)\n",
            "Requirement already satisfied: jedi>=0.16 in /content/dmo_env/lib/python3.10/site-packages (from ipython->-r requirements.txt (line 46)) (0.19.2)\n",
            "Requirement already satisfied: matplotlib-inline in /content/dmo_env/lib/python3.10/site-packages (from ipython->-r requirements.txt (line 46)) (0.1.7)\n",
            "Requirement already satisfied: prompt_toolkit<3.1.0,>=3.0.41 in /content/dmo_env/lib/python3.10/site-packages (from ipython->-r requirements.txt (line 46)) (3.0.51)\n",
            "Requirement already satisfied: pygments>=2.4.0 in /content/dmo_env/lib/python3.10/site-packages (from ipython->-r requirements.txt (line 46)) (2.19.2)\n",
            "Requirement already satisfied: notebook-shim>=0.2 in /content/dmo_env/lib/python3.10/site-packages (from jupyterlab->-r requirements.txt (line 47)) (0.2.4)\n",
            "Requirement already satisfied: setuptools>=41.1.0 in /content/dmo_env/lib/python3.10/site-packages (from jupyterlab->-r requirements.txt (line 47)) (68.1.2)\n",
            "Requirement already satisfied: jupyter-core in /content/dmo_env/lib/python3.10/site-packages (from jupyterlab->-r requirements.txt (line 47)) (5.8.1)\n",
            "Requirement already satisfied: jupyterlab-server<3,>=2.27.1 in /content/dmo_env/lib/python3.10/site-packages (from jupyterlab->-r requirements.txt (line 47)) (2.27.3)\n",
            "Requirement already satisfied: tornado>=6.2.0 in /content/dmo_env/lib/python3.10/site-packages (from jupyterlab->-r requirements.txt (line 47)) (6.5.1)\n",
            "Requirement already satisfied: async-lru>=1.0.0 in /content/dmo_env/lib/python3.10/site-packages (from jupyterlab->-r requirements.txt (line 47)) (2.0.5)\n",
            "Requirement already satisfied: jupyter-server<3,>=2.4.0 in /content/dmo_env/lib/python3.10/site-packages (from jupyterlab->-r requirements.txt (line 47)) (2.16.0)\n",
            "Requirement already satisfied: jupyter-lsp>=2.0.0 in /content/dmo_env/lib/python3.10/site-packages (from jupyterlab->-r requirements.txt (line 47)) (2.2.6)\n",
            "Requirement already satisfied: ipykernel>=6.5.0 in /content/dmo_env/lib/python3.10/site-packages (from jupyterlab->-r requirements.txt (line 47)) (6.30.0)\n",
            "Requirement already satisfied: idna>=2.8 in /content/dmo_env/lib/python3.10/site-packages (from anyio<5.0,>=3.0->gradio>=3.45.2->-r requirements.txt (line 17)) (3.10)\n",
            "Requirement already satisfied: sniffio>=1.1 in /content/dmo_env/lib/python3.10/site-packages (from anyio<5.0,>=3.0->gradio>=3.45.2->-r requirements.txt (line 17)) (1.3.1)\n",
            "Requirement already satisfied: jmespath<2.0.0,>=0.7.1 in /content/dmo_env/lib/python3.10/site-packages (from boto3<2.0,>=1.0->cached_path->-r requirements.txt (line 12)) (1.0.1)\n",
            "Requirement already satisfied: s3transfer<0.14.0,>=0.13.0 in /content/dmo_env/lib/python3.10/site-packages (from boto3<2.0,>=1.0->cached_path->-r requirements.txt (line 12)) (0.13.1)\n",
            "Requirement already satisfied: botocore<1.40.0,>=1.39.13 in /content/dmo_env/lib/python3.10/site-packages (from boto3<2.0,>=1.0->cached_path->-r requirements.txt (line 12)) (1.39.13)\n",
            "Requirement already satisfied: pycparser in /content/dmo_env/lib/python3.10/site-packages (from cffi>=1.0->soundfile->-r requirements.txt (line 27)) (2.22)\n",
            "Requirement already satisfied: frozendict in /content/dmo_env/lib/python3.10/site-packages (from einx>=0.3.0->x_transformers>=1.31.14->-r requirements.txt (line 36)) (2.4.6)\n",
            "Requirement already satisfied: frozenlist>=1.1.1 in /content/dmo_env/lib/python3.10/site-packages (from aiohttp->datasets->-r requirements.txt (line 14)) (1.7.0)\n",
            "Requirement already satisfied: aiohappyeyeballs>=2.5.0 in /content/dmo_env/lib/python3.10/site-packages (from aiohttp->datasets->-r requirements.txt (line 14)) (2.6.1)\n",
            "Requirement already satisfied: yarl<2.0,>=1.17.0 in /content/dmo_env/lib/python3.10/site-packages (from aiohttp->datasets->-r requirements.txt (line 14)) (1.20.1)\n",
            "Requirement already satisfied: propcache>=0.2.0 in /content/dmo_env/lib/python3.10/site-packages (from aiohttp->datasets->-r requirements.txt (line 14)) (0.3.2)\n",
            "Requirement already satisfied: async-timeout<6.0,>=4.0 in /content/dmo_env/lib/python3.10/site-packages (from aiohttp->datasets->-r requirements.txt (line 14)) (5.0.1)\n",
            "Requirement already satisfied: attrs>=17.3.0 in /content/dmo_env/lib/python3.10/site-packages (from aiohttp->datasets->-r requirements.txt (line 14)) (25.3.0)\n",
            "Requirement already satisfied: multidict<7.0,>=4.5 in /content/dmo_env/lib/python3.10/site-packages (from aiohttp->datasets->-r requirements.txt (line 14)) (6.6.3)\n",
            "Requirement already satisfied: aiosignal>=1.4.0 in /content/dmo_env/lib/python3.10/site-packages (from aiohttp->datasets->-r requirements.txt (line 14)) (1.4.0)\n",
            "Requirement already satisfied: gitdb<5,>=4.0.1 in /content/dmo_env/lib/python3.10/site-packages (from gitpython!=3.1.29,>=1.0.0->wandb->-r requirements.txt (line 35)) (4.0.12)\n",
            "Requirement already satisfied: google-cloud-core<3.0dev,>=2.3.0 in /content/dmo_env/lib/python3.10/site-packages (from google-cloud-storage<3.0,>=1.32.0->cached_path->-r requirements.txt (line 12)) (2.4.3)\n",
            "Requirement already satisfied: google-crc32c<2.0dev,>=1.0 in /content/dmo_env/lib/python3.10/site-packages (from google-cloud-storage<3.0,>=1.32.0->cached_path->-r requirements.txt (line 12)) (1.7.1)\n",
            "Requirement already satisfied: google-auth<3.0dev,>=2.26.1 in /content/dmo_env/lib/python3.10/site-packages (from google-cloud-storage<3.0,>=1.32.0->cached_path->-r requirements.txt (line 12)) (2.40.3)\n",
            "Requirement already satisfied: google-api-core<3.0.0dev,>=2.15.0 in /content/dmo_env/lib/python3.10/site-packages (from google-cloud-storage<3.0,>=1.32.0->cached_path->-r requirements.txt (line 12)) (2.25.1)\n",
            "Requirement already satisfied: google-resumable-media>=2.7.2 in /content/dmo_env/lib/python3.10/site-packages (from google-cloud-storage<3.0,>=1.32.0->cached_path->-r requirements.txt (line 12)) (2.7.2)\n",
            "Requirement already satisfied: certifi in /content/dmo_env/lib/python3.10/site-packages (from httpx<1.0,>=0.24.1->gradio>=3.45.2->-r requirements.txt (line 17)) (2025.7.14)\n",
            "Requirement already satisfied: httpcore==1.* in /content/dmo_env/lib/python3.10/site-packages (from httpx<1.0,>=0.24.1->gradio>=3.45.2->-r requirements.txt (line 17)) (1.0.9)\n",
            "Requirement already satisfied: h11>=0.16 in /content/dmo_env/lib/python3.10/site-packages (from httpcore==1.*->httpx<1.0,>=0.24.1->gradio>=3.45.2->-r requirements.txt (line 17)) (0.16.0)\n",
            "Requirement already satisfied: hf-xet<2.0.0,>=1.1.3 in /content/dmo_env/lib/python3.10/site-packages (from huggingface_hub>=0.21.0->accelerate>=0.33.0->-r requirements.txt (line 9)) (1.1.5)\n",
            "Requirement already satisfied: debugpy>=1.6.5 in /content/dmo_env/lib/python3.10/site-packages (from ipykernel>=6.5.0->jupyterlab->-r requirements.txt (line 47)) (1.8.15)\n",
            "Requirement already satisfied: jupyter-client>=8.0.0 in /content/dmo_env/lib/python3.10/site-packages (from ipykernel>=6.5.0->jupyterlab->-r requirements.txt (line 47)) (8.6.3)\n",
            "Requirement already satisfied: pyzmq>=25 in /content/dmo_env/lib/python3.10/site-packages (from ipykernel>=6.5.0->jupyterlab->-r requirements.txt (line 47)) (27.0.0)\n",
            "Requirement already satisfied: nest-asyncio>=1.4 in /content/dmo_env/lib/python3.10/site-packages (from ipykernel>=6.5.0->jupyterlab->-r requirements.txt (line 47)) (1.6.0)\n",
            "Requirement already satisfied: comm>=0.1.1 in /content/dmo_env/lib/python3.10/site-packages (from ipykernel>=6.5.0->jupyterlab->-r requirements.txt (line 47)) (0.2.3)\n",
            "Requirement already satisfied: parso<0.9.0,>=0.8.4 in /content/dmo_env/lib/python3.10/site-packages (from jedi>=0.16->ipython->-r requirements.txt (line 46)) (0.8.4)\n",
            "Requirement already satisfied: prometheus-client>=0.9 in /content/dmo_env/lib/python3.10/site-packages (from jupyter-server<3,>=2.4.0->jupyterlab->-r requirements.txt (line 47)) (0.22.1)\n",
            "Requirement already satisfied: websocket-client>=1.7 in /content/dmo_env/lib/python3.10/site-packages (from jupyter-server<3,>=2.4.0->jupyterlab->-r requirements.txt (line 47)) (1.8.0)\n",
            "Requirement already satisfied: nbconvert>=6.4.4 in /content/dmo_env/lib/python3.10/site-packages (from jupyter-server<3,>=2.4.0->jupyterlab->-r requirements.txt (line 47)) (7.16.6)\n",
            "Requirement already satisfied: overrides>=5.0 in /content/dmo_env/lib/python3.10/site-packages (from jupyter-server<3,>=2.4.0->jupyterlab->-r requirements.txt (line 47)) (7.7.0)\n",
            "Requirement already satisfied: jupyter-events>=0.11.0 in /content/dmo_env/lib/python3.10/site-packages (from jupyter-server<3,>=2.4.0->jupyterlab->-r requirements.txt (line 47)) (0.12.0)\n",
            "Requirement already satisfied: argon2-cffi>=21.1 in /content/dmo_env/lib/python3.10/site-packages (from jupyter-server<3,>=2.4.0->jupyterlab->-r requirements.txt (line 47)) (25.1.0)\n",
            "Requirement already satisfied: terminado>=0.8.3 in /content/dmo_env/lib/python3.10/site-packages (from jupyter-server<3,>=2.4.0->jupyterlab->-r requirements.txt (line 47)) (0.18.1)\n",
            "Requirement already satisfied: send2trash>=1.8.2 in /content/dmo_env/lib/python3.10/site-packages (from jupyter-server<3,>=2.4.0->jupyterlab->-r requirements.txt (line 47)) (1.8.3)\n",
            "Requirement already satisfied: jupyter-server-terminals>=0.4.4 in /content/dmo_env/lib/python3.10/site-packages (from jupyter-server<3,>=2.4.0->jupyterlab->-r requirements.txt (line 47)) (0.5.3)\n",
            "Requirement already satisfied: nbformat>=5.3.0 in /content/dmo_env/lib/python3.10/site-packages (from jupyter-server<3,>=2.4.0->jupyterlab->-r requirements.txt (line 47)) (5.10.4)\n",
            "Requirement already satisfied: babel>=2.10 in /content/dmo_env/lib/python3.10/site-packages (from jupyterlab-server<3,>=2.27.1->jupyterlab->-r requirements.txt (line 47)) (2.17.0)\n",
            "Requirement already satisfied: json5>=0.9.0 in /content/dmo_env/lib/python3.10/site-packages (from jupyterlab-server<3,>=2.27.1->jupyterlab->-r requirements.txt (line 47)) (0.12.0)\n",
            "Requirement already satisfied: jsonschema>=4.18.0 in /content/dmo_env/lib/python3.10/site-packages (from jupyterlab-server<3,>=2.27.1->jupyterlab->-r requirements.txt (line 47)) (4.25.0)\n",
            "Requirement already satisfied: llvmlite<0.45,>=0.44.0dev0 in /content/dmo_env/lib/python3.10/site-packages (from numba>=0.51.0->librosa->-r requirements.txt (line 20)) (0.44.0)\n",
            "Requirement already satisfied: tzdata>=2022.7 in /content/dmo_env/lib/python3.10/site-packages (from pandas->datasets->-r requirements.txt (line 14)) (2025.2)\n",
            "Requirement already satisfied: pytz>=2020.1 in /content/dmo_env/lib/python3.10/site-packages (from pandas->datasets->-r requirements.txt (line 14)) (2025.2)\n",
            "Requirement already satisfied: ptyprocess>=0.5 in /content/dmo_env/lib/python3.10/site-packages (from pexpect>4.3->ipython->-r requirements.txt (line 46)) (0.7.0)\n",
            "Requirement already satisfied: wcwidth in /content/dmo_env/lib/python3.10/site-packages (from prompt_toolkit<3.1.0,>=3.0.41->ipython->-r requirements.txt (line 46)) (0.2.13)\n",
            "Requirement already satisfied: six>=1.5 in /content/dmo_env/lib/python3.10/site-packages (from python-dateutil>=2.7->matplotlib->-r requirements.txt (line 21)) (1.17.0)\n",
            "Requirement already satisfied: urllib3<3,>=1.21.1 in /content/dmo_env/lib/python3.10/site-packages (from requests->cached_path->-r requirements.txt (line 12)) (2.5.0)\n",
            "Requirement already satisfied: charset_normalizer<4,>=2 in /content/dmo_env/lib/python3.10/site-packages (from requests->cached_path->-r requirements.txt (line 12)) (3.4.2)\n",
            "Requirement already satisfied: markdown-it-py>=2.2.0 in /content/dmo_env/lib/python3.10/site-packages (from rich<14.0,>=12.1->cached_path->-r requirements.txt (line 12)) (3.0.0)\n",
            "Requirement already satisfied: threadpoolctl>=3.1.0 in /content/dmo_env/lib/python3.10/site-packages (from scikit-learn>=1.1.0->librosa->-r requirements.txt (line 20)) (3.6.0)\n",
            "Requirement already satisfied: shellingham>=1.3.0 in /content/dmo_env/lib/python3.10/site-packages (from typer<1.0,>=0.12->gradio>=3.45.2->-r requirements.txt (line 17)) (1.5.4)\n",
            "Requirement already satisfied: asttokens>=2.1.0 in /content/dmo_env/lib/python3.10/site-packages (from stack_data->ipython->-r requirements.txt (line 46)) (3.0.0)\n",
            "Requirement already satisfied: pure-eval in /content/dmo_env/lib/python3.10/site-packages (from stack_data->ipython->-r requirements.txt (line 46)) (0.2.3)\n",
            "Requirement already satisfied: executing>=1.2.0 in /content/dmo_env/lib/python3.10/site-packages (from stack_data->ipython->-r requirements.txt (line 46)) (2.2.0)\n",
            "Requirement already satisfied: mpmath<1.4,>=1.1.0 in /content/dmo_env/lib/python3.10/site-packages (from sympy->torch==2.2.2+cu121->-r requirements.txt (line 4)) (1.3.0)\n",
            "Requirement already satisfied: argon2-cffi-bindings in /content/dmo_env/lib/python3.10/site-packages (from argon2-cffi>=21.1->jupyter-server<3,>=2.4.0->jupyterlab->-r requirements.txt (line 47)) (21.2.0)\n",
            "Requirement already satisfied: smmap<6,>=3.0.1 in /content/dmo_env/lib/python3.10/site-packages (from gitdb<5,>=4.0.1->gitpython!=3.1.29,>=1.0.0->wandb->-r requirements.txt (line 35)) (5.0.2)\n",
            "Requirement already satisfied: proto-plus<2.0.0,>=1.22.3 in /content/dmo_env/lib/python3.10/site-packages (from google-api-core<3.0.0dev,>=2.15.0->google-cloud-storage<3.0,>=1.32.0->cached_path->-r requirements.txt (line 12)) (1.26.1)\n",
            "Requirement already satisfied: googleapis-common-protos<2.0.0,>=1.56.2 in /content/dmo_env/lib/python3.10/site-packages (from google-api-core<3.0.0dev,>=2.15.0->google-cloud-storage<3.0,>=1.32.0->cached_path->-r requirements.txt (line 12)) (1.70.0)\n",
            "Requirement already satisfied: cachetools<6.0,>=2.0.0 in /content/dmo_env/lib/python3.10/site-packages (from google-auth<3.0dev,>=2.26.1->google-cloud-storage<3.0,>=1.32.0->cached_path->-r requirements.txt (line 12)) (5.5.2)\n",
            "Requirement already satisfied: pyasn1-modules>=0.2.1 in /content/dmo_env/lib/python3.10/site-packages (from google-auth<3.0dev,>=2.26.1->google-cloud-storage<3.0,>=1.32.0->cached_path->-r requirements.txt (line 12)) (0.4.2)\n",
            "Requirement already satisfied: rsa<5,>=3.1.4 in /content/dmo_env/lib/python3.10/site-packages (from google-auth<3.0dev,>=2.26.1->google-cloud-storage<3.0,>=1.32.0->cached_path->-r requirements.txt (line 12)) (4.9.1)\n",
            "Requirement already satisfied: referencing>=0.28.4 in /content/dmo_env/lib/python3.10/site-packages (from jsonschema>=4.18.0->jupyterlab-server<3,>=2.27.1->jupyterlab->-r requirements.txt (line 47)) (0.36.2)\n",
            "Requirement already satisfied: rpds-py>=0.7.1 in /content/dmo_env/lib/python3.10/site-packages (from jsonschema>=4.18.0->jupyterlab-server<3,>=2.27.1->jupyterlab->-r requirements.txt (line 47)) (0.26.0)\n",
            "Requirement already satisfied: jsonschema-specifications>=2023.03.6 in /content/dmo_env/lib/python3.10/site-packages (from jsonschema>=4.18.0->jupyterlab-server<3,>=2.27.1->jupyterlab->-r requirements.txt (line 47)) (2025.4.1)\n",
            "Requirement already satisfied: rfc3339-validator in /content/dmo_env/lib/python3.10/site-packages (from jupyter-events>=0.11.0->jupyter-server<3,>=2.4.0->jupyterlab->-r requirements.txt (line 47)) (0.1.4)\n",
            "Requirement already satisfied: python-json-logger>=2.0.4 in /content/dmo_env/lib/python3.10/site-packages (from jupyter-events>=0.11.0->jupyter-server<3,>=2.4.0->jupyterlab->-r requirements.txt (line 47)) (3.3.0)\n",
            "Requirement already satisfied: rfc3986-validator>=0.1.1 in /content/dmo_env/lib/python3.10/site-packages (from jupyter-events>=0.11.0->jupyter-server<3,>=2.4.0->jupyterlab->-r requirements.txt (line 47)) (0.1.1)\n",
            "Requirement already satisfied: mdurl~=0.1 in /content/dmo_env/lib/python3.10/site-packages (from markdown-it-py>=2.2.0->rich<14.0,>=12.1->cached_path->-r requirements.txt (line 12)) (0.1.2)\n",
            "Requirement already satisfied: bleach[css]!=5.0.0 in /content/dmo_env/lib/python3.10/site-packages (from nbconvert>=6.4.4->jupyter-server<3,>=2.4.0->jupyterlab->-r requirements.txt (line 47)) (6.2.0)\n",
            "Requirement already satisfied: beautifulsoup4 in /content/dmo_env/lib/python3.10/site-packages (from nbconvert>=6.4.4->jupyter-server<3,>=2.4.0->jupyterlab->-r requirements.txt (line 47)) (4.13.4)\n",
            "Requirement already satisfied: nbclient>=0.5.0 in /content/dmo_env/lib/python3.10/site-packages (from nbconvert>=6.4.4->jupyter-server<3,>=2.4.0->jupyterlab->-r requirements.txt (line 47)) (0.10.2)\n",
            "Requirement already satisfied: pandocfilters>=1.4.1 in /content/dmo_env/lib/python3.10/site-packages (from nbconvert>=6.4.4->jupyter-server<3,>=2.4.0->jupyterlab->-r requirements.txt (line 47)) (1.5.1)\n",
            "Requirement already satisfied: defusedxml in /content/dmo_env/lib/python3.10/site-packages (from nbconvert>=6.4.4->jupyter-server<3,>=2.4.0->jupyterlab->-r requirements.txt (line 47)) (0.7.1)\n",
            "Requirement already satisfied: jupyterlab-pygments in /content/dmo_env/lib/python3.10/site-packages (from nbconvert>=6.4.4->jupyter-server<3,>=2.4.0->jupyterlab->-r requirements.txt (line 47)) (0.3.0)\n",
            "Requirement already satisfied: mistune<4,>=2.0.3 in /content/dmo_env/lib/python3.10/site-packages (from nbconvert>=6.4.4->jupyter-server<3,>=2.4.0->jupyterlab->-r requirements.txt (line 47)) (3.1.3)\n",
            "Requirement already satisfied: fastjsonschema>=2.15 in /content/dmo_env/lib/python3.10/site-packages (from nbformat>=5.3.0->jupyter-server<3,>=2.4.0->jupyterlab->-r requirements.txt (line 47)) (2.21.1)\n",
            "Requirement already satisfied: webencodings in /content/dmo_env/lib/python3.10/site-packages (from bleach[css]!=5.0.0->nbconvert>=6.4.4->jupyter-server<3,>=2.4.0->jupyterlab->-r requirements.txt (line 47)) (0.5.1)\n",
            "Requirement already satisfied: tinycss2<1.5,>=1.1.0 in /content/dmo_env/lib/python3.10/site-packages (from bleach[css]!=5.0.0->nbconvert>=6.4.4->jupyter-server<3,>=2.4.0->jupyterlab->-r requirements.txt (line 47)) (1.4.0)\n",
            "Requirement already satisfied: webcolors>=24.6.0 in /content/dmo_env/lib/python3.10/site-packages (from jsonschema>=4.18.0->jupyterlab-server<3,>=2.27.1->jupyterlab->-r requirements.txt (line 47)) (24.11.1)\n",
            "Requirement already satisfied: jsonpointer>1.13 in /content/dmo_env/lib/python3.10/site-packages (from jsonschema>=4.18.0->jupyterlab-server<3,>=2.27.1->jupyterlab->-r requirements.txt (line 47)) (3.0.0)\n",
            "Requirement already satisfied: isoduration in /content/dmo_env/lib/python3.10/site-packages (from jsonschema>=4.18.0->jupyterlab-server<3,>=2.27.1->jupyterlab->-r requirements.txt (line 47)) (20.11.0)\n",
            "Requirement already satisfied: uri-template in /content/dmo_env/lib/python3.10/site-packages (from jsonschema>=4.18.0->jupyterlab-server<3,>=2.27.1->jupyterlab->-r requirements.txt (line 47)) (1.3.0)\n",
            "Requirement already satisfied: fqdn in /content/dmo_env/lib/python3.10/site-packages (from jsonschema>=4.18.0->jupyterlab-server<3,>=2.27.1->jupyterlab->-r requirements.txt (line 47)) (1.5.1)\n",
            "Requirement already satisfied: rfc3987-syntax>=1.1.0 in /content/dmo_env/lib/python3.10/site-packages (from jsonschema>=4.18.0->jupyterlab-server<3,>=2.27.1->jupyterlab->-r requirements.txt (line 47)) (1.1.0)\n",
            "Requirement already satisfied: pyasn1<0.7.0,>=0.6.1 in /content/dmo_env/lib/python3.10/site-packages (from pyasn1-modules>=0.2.1->google-auth<3.0dev,>=2.26.1->google-cloud-storage<3.0,>=1.32.0->cached_path->-r requirements.txt (line 12)) (0.6.1)\n",
            "Requirement already satisfied: soupsieve>1.2 in /content/dmo_env/lib/python3.10/site-packages (from beautifulsoup4->nbconvert>=6.4.4->jupyter-server<3,>=2.4.0->jupyterlab->-r requirements.txt (line 47)) (2.7)\n",
            "Requirement already satisfied: lark>=1.2.2 in /content/dmo_env/lib/python3.10/site-packages (from rfc3987-syntax>=1.1.0->jsonschema>=4.18.0->jupyterlab-server<3,>=2.27.1->jupyterlab->-r requirements.txt (line 47)) (1.2.2)\n",
            "Requirement already satisfied: arrow>=0.15.0 in /content/dmo_env/lib/python3.10/site-packages (from isoduration->jsonschema>=4.18.0->jupyterlab-server<3,>=2.27.1->jupyterlab->-r requirements.txt (line 47)) (1.3.0)\n",
            "Requirement already satisfied: types-python-dateutil>=2.8.10 in /content/dmo_env/lib/python3.10/site-packages (from arrow>=0.15.0->isoduration->jsonschema>=4.18.0->jupyterlab-server<3,>=2.27.1->jupyterlab->-r requirements.txt (line 47)) (2.9.0.20250708)\n"
          ]
        }
      ]
    },
    {
      "cell_type": "markdown",
      "source": [
        "5 of 6: fetch the DMOSpeech2 PyTorch model checkpoints from Huggingface into the cloned (forked) repo"
      ],
      "metadata": {
        "id": "18FRx780OFOJ"
      }
    },
    {
      "cell_type": "code",
      "source": [
        "import os\n",
        "os.chdir('/content/DMOSpeech2')\n",
        "\n",
        "# Explicitly download checkpoints\n",
        "!mkdir -p ckpts\n",
        "!wget -O ckpts/model_85000.pt https://huggingface.co/yl4579/DMOSpeech2/resolve/main/model_85000.pt\n",
        "!wget -O ckpts/model_1500.pt https://huggingface.co/yl4579/DMOSpeech2/resolve/main/model_1500.pt\n"
      ],
      "metadata": {
        "colab": {
          "base_uri": "https://localhost:8080/"
        },
        "id": "9qzsbPAzOD8K",
        "outputId": "725e5ccf-d86f-41e3-fbd3-1ba2056485ed"
      },
      "execution_count": 8,
      "outputs": [
        {
          "output_type": "stream",
          "name": "stdout",
          "text": [
            "--2025-07-25 19:45:27--  https://huggingface.co/yl4579/DMOSpeech2/resolve/main/model_85000.pt\n",
            "Resolving huggingface.co (huggingface.co)... 3.163.189.90, 3.163.189.114, 3.163.189.74, ...\n",
            "Connecting to huggingface.co (huggingface.co)|3.163.189.90|:443... connected.\n",
            "HTTP request sent, awaiting response... 302 Found\n",
            "Location: https://cdn-lfs-us-1.hf.co/repos/cd/e6/cde65999e1daa02ab5a64eef05158e83369c7b7b1bf9eab45cd2b2aa4f644396/e143188f7c46b69abb60786937d79b89dac9777d3c4c1e91a97634bcd39ebf2c?response-content-disposition=inline%3B+filename*%3DUTF-8%27%27model_85000.pt%3B+filename%3D%22model_85000.pt%22%3B&Expires=1753476334&Policy=eyJTdGF0ZW1lbnQiOlt7IkNvbmRpdGlvbiI6eyJEYXRlTGVzc1RoYW4iOnsiQVdTOkVwb2NoVGltZSI6MTc1MzQ3NjMzNH19LCJSZXNvdXJjZSI6Imh0dHBzOi8vY2RuLWxmcy11cy0xLmhmLmNvL3JlcG9zL2NkL2U2L2NkZTY1OTk5ZTFkYWEwMmFiNWE2NGVlZjA1MTU4ZTgzMzY5YzdiN2IxYmY5ZWFiNDVjZDJiMmFhNGY2NDQzOTYvZTE0MzE4OGY3YzQ2YjY5YWJiNjA3ODY5MzdkNzliODlkYWM5Nzc3ZDNjNGMxZTkxYTk3NjM0YmNkMzllYmYyYz9yZXNwb25zZS1jb250ZW50LWRpc3Bvc2l0aW9uPSoifV19&Signature=ruvEwr%7EkZQGt8GZcp-f9WjRJ2s%7EXbE7FDqlz6O2fK6-zyMWtX63%7EADWcBva-S06whcEB9TyHGS869C60oHXHUdE9iSnhkxhselM7tHQQqzhAdJ2qVkM6vM36NbUZjVaOLKzKK1i4NP%7Etuyk1m73GOoTs7G7T51tC3M0TJ5%7EgSxqTg3-VJbfVFL6DflVHQElqvlmUCPOGgx3hm97yHhNkuBDf9SoNCwkboWgLbd8v6CWTXZI%7EiGg4ALZt%7EalsrGg2sdF6%7E2RE8zUsY0Nrp4ksYwdep9sDbMqBoDja%7EQlP67TgWTFMSRCWXcsntT1aoyObaIkrbNU8FP4uaC184a-b6w__&Key-Pair-Id=K24J24Z295AEI9 [following]\n",
            "--2025-07-25 19:45:34--  https://cdn-lfs-us-1.hf.co/repos/cd/e6/cde65999e1daa02ab5a64eef05158e83369c7b7b1bf9eab45cd2b2aa4f644396/e143188f7c46b69abb60786937d79b89dac9777d3c4c1e91a97634bcd39ebf2c?response-content-disposition=inline%3B+filename*%3DUTF-8%27%27model_85000.pt%3B+filename%3D%22model_85000.pt%22%3B&Expires=1753476334&Policy=eyJTdGF0ZW1lbnQiOlt7IkNvbmRpdGlvbiI6eyJEYXRlTGVzc1RoYW4iOnsiQVdTOkVwb2NoVGltZSI6MTc1MzQ3NjMzNH19LCJSZXNvdXJjZSI6Imh0dHBzOi8vY2RuLWxmcy11cy0xLmhmLmNvL3JlcG9zL2NkL2U2L2NkZTY1OTk5ZTFkYWEwMmFiNWE2NGVlZjA1MTU4ZTgzMzY5YzdiN2IxYmY5ZWFiNDVjZDJiMmFhNGY2NDQzOTYvZTE0MzE4OGY3YzQ2YjY5YWJiNjA3ODY5MzdkNzliODlkYWM5Nzc3ZDNjNGMxZTkxYTk3NjM0YmNkMzllYmYyYz9yZXNwb25zZS1jb250ZW50LWRpc3Bvc2l0aW9uPSoifV19&Signature=ruvEwr%7EkZQGt8GZcp-f9WjRJ2s%7EXbE7FDqlz6O2fK6-zyMWtX63%7EADWcBva-S06whcEB9TyHGS869C60oHXHUdE9iSnhkxhselM7tHQQqzhAdJ2qVkM6vM36NbUZjVaOLKzKK1i4NP%7Etuyk1m73GOoTs7G7T51tC3M0TJ5%7EgSxqTg3-VJbfVFL6DflVHQElqvlmUCPOGgx3hm97yHhNkuBDf9SoNCwkboWgLbd8v6CWTXZI%7EiGg4ALZt%7EalsrGg2sdF6%7E2RE8zUsY0Nrp4ksYwdep9sDbMqBoDja%7EQlP67TgWTFMSRCWXcsntT1aoyObaIkrbNU8FP4uaC184a-b6w__&Key-Pair-Id=K24J24Z295AEI9\n",
            "Resolving cdn-lfs-us-1.hf.co (cdn-lfs-us-1.hf.co)... 108.138.94.114, 108.138.94.64, 108.138.94.37, ...\n",
            "Connecting to cdn-lfs-us-1.hf.co (cdn-lfs-us-1.hf.co)|108.138.94.114|:443... connected.\n",
            "HTTP request sent, awaiting response... 200 OK\n",
            "Length: 4019822332 (3.7G) [binary/octet-stream]\n",
            "Saving to: ‘ckpts/model_85000.pt’\n",
            "\n",
            "ckpts/model_85000.p 100%[===================>]   3.74G   232MB/s    in 22s     \n",
            "\n",
            "2025-07-25 19:45:56 (176 MB/s) - ‘ckpts/model_85000.pt’ saved [4019822332/4019822332]\n",
            "\n",
            "--2025-07-25 19:45:56--  https://huggingface.co/yl4579/DMOSpeech2/resolve/main/model_1500.pt\n",
            "Resolving huggingface.co (huggingface.co)... 3.163.189.90, 3.163.189.37, 3.163.189.74, ...\n",
            "Connecting to huggingface.co (huggingface.co)|3.163.189.90|:443... connected.\n",
            "HTTP request sent, awaiting response... 302 Found\n",
            "Location: https://cdn-lfs-us-1.hf.co/repos/cd/e6/cde65999e1daa02ab5a64eef05158e83369c7b7b1bf9eab45cd2b2aa4f644396/6bd50428f3b5f0f25c1a60a0053f40ee47c817bda03c8ee120100f22680ae4c2?response-content-disposition=inline%3B+filename*%3DUTF-8%27%27model_1500.pt%3B+filename%3D%22model_1500.pt%22%3B&Expires=1753476359&Policy=eyJTdGF0ZW1lbnQiOlt7IkNvbmRpdGlvbiI6eyJEYXRlTGVzc1RoYW4iOnsiQVdTOkVwb2NoVGltZSI6MTc1MzQ3NjM1OX19LCJSZXNvdXJjZSI6Imh0dHBzOi8vY2RuLWxmcy11cy0xLmhmLmNvL3JlcG9zL2NkL2U2L2NkZTY1OTk5ZTFkYWEwMmFiNWE2NGVlZjA1MTU4ZTgzMzY5YzdiN2IxYmY5ZWFiNDVjZDJiMmFhNGY2NDQzOTYvNmJkNTA0MjhmM2I1ZjBmMjVjMWE2MGEwMDUzZjQwZWU0N2M4MTdiZGEwM2M4ZWUxMjAxMDBmMjI2ODBhZTRjMj9yZXNwb25zZS1jb250ZW50LWRpc3Bvc2l0aW9uPSoifV19&Signature=SBTnvRZoF%7E5V1r8UH2UJRoB-ej%7EItkL216iDtZ37SVsGkEIqv4yl8yoTAWRvXtGBQ11czOM5wo0oETdDlRQFLLmsNXBfXez0fuFIcdyTa1RmTH6-AssYcY9kR9tZ64JisR-mEzx-sFHMpj8jGbG5M5MfcboTfP6zJlyuSidNJGrANh7tvnyMdFvORRf0%7Ek6ZIlhShsUJ3Azwslhf2G2wO%7EeCgX32M5tcVU2oDx39lcGnirHyCaD1Ye2TZro-F53Ity0e4C3FsE%7EdgEUE7r6HTzJJmtlzUohPXv%7EhwamDW0n8bQabpmaLnHoBnddydMBx8I-ZXfVxvRQQ6TuLsOIeig__&Key-Pair-Id=K24J24Z295AEI9 [following]\n",
            "--2025-07-25 19:45:59--  https://cdn-lfs-us-1.hf.co/repos/cd/e6/cde65999e1daa02ab5a64eef05158e83369c7b7b1bf9eab45cd2b2aa4f644396/6bd50428f3b5f0f25c1a60a0053f40ee47c817bda03c8ee120100f22680ae4c2?response-content-disposition=inline%3B+filename*%3DUTF-8%27%27model_1500.pt%3B+filename%3D%22model_1500.pt%22%3B&Expires=1753476359&Policy=eyJTdGF0ZW1lbnQiOlt7IkNvbmRpdGlvbiI6eyJEYXRlTGVzc1RoYW4iOnsiQVdTOkVwb2NoVGltZSI6MTc1MzQ3NjM1OX19LCJSZXNvdXJjZSI6Imh0dHBzOi8vY2RuLWxmcy11cy0xLmhmLmNvL3JlcG9zL2NkL2U2L2NkZTY1OTk5ZTFkYWEwMmFiNWE2NGVlZjA1MTU4ZTgzMzY5YzdiN2IxYmY5ZWFiNDVjZDJiMmFhNGY2NDQzOTYvNmJkNTA0MjhmM2I1ZjBmMjVjMWE2MGEwMDUzZjQwZWU0N2M4MTdiZGEwM2M4ZWUxMjAxMDBmMjI2ODBhZTRjMj9yZXNwb25zZS1jb250ZW50LWRpc3Bvc2l0aW9uPSoifV19&Signature=SBTnvRZoF%7E5V1r8UH2UJRoB-ej%7EItkL216iDtZ37SVsGkEIqv4yl8yoTAWRvXtGBQ11czOM5wo0oETdDlRQFLLmsNXBfXez0fuFIcdyTa1RmTH6-AssYcY9kR9tZ64JisR-mEzx-sFHMpj8jGbG5M5MfcboTfP6zJlyuSidNJGrANh7tvnyMdFvORRf0%7Ek6ZIlhShsUJ3Azwslhf2G2wO%7EeCgX32M5tcVU2oDx39lcGnirHyCaD1Ye2TZro-F53Ity0e4C3FsE%7EdgEUE7r6HTzJJmtlzUohPXv%7EhwamDW0n8bQabpmaLnHoBnddydMBx8I-ZXfVxvRQQ6TuLsOIeig__&Key-Pair-Id=K24J24Z295AEI9\n",
            "Resolving cdn-lfs-us-1.hf.co (cdn-lfs-us-1.hf.co)... 108.138.94.114, 108.138.94.64, 108.138.94.37, ...\n",
            "Connecting to cdn-lfs-us-1.hf.co (cdn-lfs-us-1.hf.co)|108.138.94.114|:443... connected.\n",
            "HTTP request sent, awaiting response... 200 OK\n",
            "Length: 270615794 (258M) [binary/octet-stream]\n",
            "Saving to: ‘ckpts/model_1500.pt’\n",
            "\n",
            "ckpts/model_1500.pt 100%[===================>] 258.08M   317MB/s    in 0.8s    \n",
            "\n",
            "2025-07-25 19:46:00 (317 MB/s) - ‘ckpts/model_1500.pt’ saved [270615794/270615794]\n",
            "\n"
          ]
        }
      ]
    },
    {
      "cell_type": "markdown",
      "source": [
        "6 of 6: verify environment; run the app to show the Gradio UI"
      ],
      "metadata": {
        "id": "Qbu6tgmoPSkU"
      }
    },
    {
      "cell_type": "code",
      "source": [
        "import subprocess\n",
        "\n",
        "venv_path = \"/content/dmo_env\"\n",
        "python_bin = f\"{venv_path}/bin/python\"\n",
        "\n",
        "def run_command(cmd):\n",
        "    result = subprocess.run(cmd, shell=True, stdout=subprocess.PIPE,\n",
        "                            stderr=subprocess.PIPE, text=True)\n",
        "    return result.stdout.strip() if result.stdout else result.stderr.strip()\n",
        "\n",
        "print(\"🔍 Explicit verification after corrected installation:\")\n",
        "\n",
        "# Verify PyTorch explicitly\n",
        "torch_version = run_command(f'{python_bin} -c \"import torch; print(torch.__version__)\"')\n",
        "print(f\"• PyTorch version explicitly: {torch_version}\")\n",
        "\n",
        "# Verify torchaudio explicitly\n",
        "torchaudio_version = run_command(f'{python_bin} -c \"import torchaudio; print(torchaudio.__version__)\"')\n",
        "print(f\"• torchaudio version explicitly: {torchaudio_version}\")\n",
        "\n",
        "# Verify CUDA explicitly\n",
        "cuda_available = run_command(f'{python_bin} -c \"import torch; print(torch.cuda.is_available())\"')\n",
        "print(f\"• CUDA explicitly available: {cuda_available}\")\n",
        "\n",
        "# Explicitly confirm accelerate package explicitly installed\n",
        "accelerate_version = run_command(f'{python_bin} -c \"import accelerate; print(accelerate.__version__)\"')\n",
        "print(f\"• accelerate explicitly installed: {accelerate_version}\")\n"
      ],
      "metadata": {
        "colab": {
          "base_uri": "https://localhost:8080/"
        },
        "id": "c_bnhov0r4no",
        "outputId": "fe7192a9-6283-48cd-e2b4-841d6f250134"
      },
      "execution_count": 9,
      "outputs": [
        {
          "output_type": "stream",
          "name": "stdout",
          "text": [
            "🔍 Explicit verification after corrected installation:\n",
            "• PyTorch version explicitly: 2.2.2+cu121\n",
            "• torchaudio version explicitly: 2.2.2+cu121\n",
            "• CUDA explicitly available: True\n",
            "• accelerate explicitly installed: 1.9.0\n"
          ]
        }
      ]
    },
    {
      "cell_type": "code",
      "source": [
        "!source /content/dmo_env/bin/activate && python --version && python scripts/colab-gradio.py"
      ],
      "metadata": {
        "colab": {
          "base_uri": "https://localhost:8080/"
        },
        "id": "YuzDYHzHBmik",
        "outputId": "023a8266-fd16-4222-e843-1f89a11dbe82"
      },
      "execution_count": null,
      "outputs": [
        {
          "output_type": "stream",
          "name": "stdout",
          "text": [
            "Python 3.10.12\n",
            "Building prefix dict from the default dictionary ...\n",
            "Loading model from cache /tmp/jieba.cache\n",
            "Loading model cost 0.656 seconds.\n",
            "Prefix dict has been built successfully.\n",
            "Word segmentation module jieba initialized.\n",
            "\n",
            "Download Vocos from huggingface charactr/vocos-mel-24khz\n",
            "* Running on local URL:  http://127.0.0.1:7860\n",
            "* Running on public URL: https://59ae32e04bb6f0614a.gradio.live\n",
            "\n",
            "This share link expires in 1 week. For free permanent hosting and GPU upgrades, run `gradio deploy` from the terminal in the working directory to deploy to Hugging Face Spaces (https://huggingface.co/spaces)\n",
            "Converting audio...\n",
            "Using custom reference text...\n",
            "\n",
            "ref_text   Is ant it ironic?. \n",
            "/content/dmo_env/lib/python3.10/site-packages/gradio/processing_utils.py:777: UserWarning: Trying to convert audio automatically from float32 to 16-bit int format.\n",
            "  warnings.warn(warning.format(data.dtype))\n"
          ]
        }
      ]
    }
  ]
}