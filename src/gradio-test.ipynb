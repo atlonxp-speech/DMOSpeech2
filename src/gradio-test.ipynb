{
 "cells": [
  {
   "cell_type": "code",
   "execution_count": 1,
   "id": "20ef648b-7ff5-41d9-a35a-0434bb37fc1a",
   "metadata": {},
   "outputs": [
    {
     "name": "stderr",
     "output_type": "stream",
     "text": [
      "/home/mike/github/wrightmikea/DMOSpeech2/.venv/lib/python3.10/site-packages/tqdm/auto.py:21: TqdmWarning: IProgress not found. Please update jupyter and ipywidgets. See https://ipywidgets.readthedocs.io/en/stable/user_install.html\n",
      "  from .autonotebook import tqdm as notebook_tqdm\n",
      "/home/mike/github/wrightmikea/DMOSpeech2/.venv/lib/python3.10/site-packages/jieba/_compat.py:18: UserWarning: pkg_resources is deprecated as an API. See https://setuptools.pypa.io/en/latest/pkg_resources.html. The pkg_resources package is slated for removal as early as 2025-11-30. Refrain from using this package or pin to Setuptools<81.\n",
      "  import pkg_resources\n",
      "Building prefix dict from the default dictionary ...\n",
      "Loading model from cache /tmp/jieba.cache\n",
      "Loading model cost 0.555 seconds.\n",
      "Prefix dict has been built successfully.\n"
     ]
    },
    {
     "name": "stdout",
     "output_type": "stream",
     "text": [
      "Word segmentation module jieba initialized.\n",
      "\n",
      "Download Vocos from huggingface charactr/vocos-mel-24khz\n",
      "* Running on local URL:  http://0.0.0.0:7860\n",
      "* To create a public link, set `share=True` in `launch()`.\n"
     ]
    },
    {
     "data": {
      "text/html": [
       "<div><iframe src=\"http://localhost:7860/\" width=\"100%\" height=\"500\" allow=\"autoplay; camera; microphone; clipboard-read; clipboard-write;\" frameborder=\"0\" allowfullscreen></iframe></div>"
      ],
      "text/plain": [
       "<IPython.core.display.HTML object>"
      ]
     },
     "metadata": {},
     "output_type": "display_data"
    },
    {
     "data": {
      "text/plain": []
     },
     "execution_count": 1,
     "metadata": {},
     "output_type": "execute_result"
    },
    {
     "name": "stdout",
     "output_type": "stream",
     "text": [
      "Converting audio...\n",
      "Using custom reference text...\n",
      "\n",
      "ref_text   That's why we are watching. \n"
     ]
    },
    {
     "name": "stderr",
     "output_type": "stream",
     "text": [
      "/home/mike/github/wrightmikea/DMOSpeech2/.venv/lib/python3.10/site-packages/gradio/processing_utils.py:777: UserWarning: Trying to convert audio automatically from float32 to 16-bit int format.\n",
      "  warnings.warn(warning.format(data.dtype))\n"
     ]
    }
   ],
   "source": [
    "import sys\n",
    "sys.path.insert(0, \"./src\")\n",
    "\n",
    "import torch\n",
    "import torchaudio\n",
    "import uuid\n",
    "import gradio as gr\n",
    "from infer import DMOInference\n",
    "import numpy as np\n",
    "import nest_asyncio\n",
    "\n",
    "nest_asyncio.apply()\n",
    "\n",
    "DEVICE = \"cuda\" if torch.cuda.is_available() else \"cpu\"\n",
    "\n",
    "tts = DMOInference(\n",
    "    student_checkpoint_path=\"../ckpts/model_85000.pt\",\n",
    "    duration_predictor_path=\"../ckpts/model_1500.pt\",\n",
    "    device=DEVICE,\n",
    "    model_type=\"F5TTS_Base\"\n",
    ")\n",
    "\n",
    "style_state = {\"prompt_audio\": None, \"prompt_text\": None}\n",
    "\n",
    "def prepare_audio_for_download(prompt_audio):\n",
    "    if prompt_audio is None:\n",
    "        raise gr.Error(\"No audio recorded yet.\")\n",
    "\n",
    "    sr, audio_data = prompt_audio\n",
    "    audio_tensor = torch.from_numpy(audio_data)\n",
    "\n",
    "    if audio_tensor.dim() == 1:\n",
    "        audio_tensor = audio_tensor.unsqueeze(0)\n",
    "\n",
    "    audio_path = f\"/tmp/{uuid.uuid4().hex}_ref_download.wav\"\n",
    "    torchaudio.save(audio_path, audio_tensor, sr)\n",
    "\n",
    "    return audio_path\n",
    "\n",
    "def initialize_voice(prompt_audio, prompt_text):\n",
    "    if prompt_audio is None or prompt_text.strip() == \"\":\n",
    "        return \"Provide both audio and reference text.\"\n",
    "\n",
    "    sr, audio_data = prompt_audio\n",
    "    audio_tensor = torch.from_numpy(audio_data)\n",
    "\n",
    "    if audio_tensor.dim() == 1:\n",
    "        audio_tensor = audio_tensor.unsqueeze(0)\n",
    "\n",
    "    audio_path = f\"/tmp/{uuid.uuid4().hex}_ref.wav\"\n",
    "    torchaudio.save(audio_path, audio_tensor, sr)\n",
    "\n",
    "    style_state[\"prompt_audio\"] = audio_path\n",
    "    style_state[\"prompt_text\"] = prompt_text.strip()\n",
    "\n",
    "    return \"Voice initialized successfully.\"\n",
    "\n",
    "def generate_audio(gen_text):\n",
    "    if style_state[\"prompt_audio\"] is None or style_state[\"prompt_text\"] is None:\n",
    "        raise gr.Error(\"Initialize voice first!\")\n",
    "\n",
    "    if gen_text.strip() == \"\":\n",
    "        raise gr.Error(\"Please enter text to synthesize.\")\n",
    "\n",
    "    with torch.no_grad():\n",
    "        generated_audio = tts.generate(\n",
    "            gen_text=gen_text.strip(),\n",
    "            audio_path=style_state[\"prompt_audio\"],\n",
    "            prompt_text=style_state[\"prompt_text\"],\n",
    "        )\n",
    "\n",
    "    audio_tensor = torch.from_numpy(generated_audio).unsqueeze(0)\n",
    "    audio_path = f\"/tmp/{uuid.uuid4().hex}_generated.wav\"\n",
    "    torchaudio.save(audio_path, audio_tensor, 24000)\n",
    "\n",
    "    return (24000, generated_audio), audio_path\n",
    "\n",
    "with gr.Blocks() as demo:\n",
    "    gr.Markdown(\"# DMOSpeech2 Gradio Interface (Notebook Version)\")\n",
    "\n",
    "    with gr.Tab(\"Initialize Voice\"):\n",
    "        prompt_audio = gr.Audio(\n",
    "            sources=[\"upload\", \"microphone\"],\n",
    "            type=\"numpy\",\n",
    "            label=\"Reference Audio (upload or record)\"\n",
    "        )\n",
    "        prompt_text = gr.Textbox(label=\"Reference Text (neutral distinct sentence)\")\n",
    "        download_ref_btn = gr.Button(\"Prepare Reference Audio for Download\")\n",
    "        download_ref_link = gr.File(label=\"Download Reference Audio\")\n",
    "\n",
    "        download_ref_btn.click(\n",
    "            prepare_audio_for_download,\n",
    "            prompt_audio,\n",
    "            download_ref_link\n",
    "        )\n",
    "\n",
    "        init_btn = gr.Button(\"Initialize Voice\")\n",
    "        init_result = gr.Textbox(label=\"Initialization Status\", interactive=False)\n",
    "\n",
    "        init_btn.click(initialize_voice, [prompt_audio, prompt_text], init_result)\n",
    "\n",
    "    with gr.Tab(\"Generate Speech\"):\n",
    "        gen_text = gr.Textbox(label=\"Text to Synthesize\")\n",
    "        generate_btn = gr.Button(\"Generate Audio\")\n",
    "        generated_audio = gr.Audio(label=\"Generated Speech\", type=\"numpy\")\n",
    "        download_btn = gr.File(label=\"Download Generated Audio\")\n",
    "\n",
    "        generate_btn.click(\n",
    "            generate_audio,\n",
    "            gen_text,\n",
    "            [generated_audio, download_btn]\n",
    "        )\n",
    "\n",
    "demo.launch(server_name=\"0.0.0.0\", server_port=7860)\n"
   ]
  },
  {
   "cell_type": "code",
   "execution_count": null,
   "id": "b651b2f9-d2b1-4b0c-9c09-f511debbc4ac",
   "metadata": {},
   "outputs": [],
   "source": []
  }
 ],
 "metadata": {
  "kernelspec": {
   "display_name": "Python 3 (ipykernel)",
   "language": "python",
   "name": "python3"
  },
  "language_info": {
   "codemirror_mode": {
    "name": "ipython",
    "version": 3
   },
   "file_extension": ".py",
   "mimetype": "text/x-python",
   "name": "python",
   "nbconvert_exporter": "python",
   "pygments_lexer": "ipython3",
   "version": "3.10.18"
  }
 },
 "nbformat": 4,
 "nbformat_minor": 5
}
