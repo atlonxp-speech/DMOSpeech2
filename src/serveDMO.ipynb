{
 "cells": [
  {
   "cell_type": "code",
   "execution_count": 1,
   "id": "dd38b2b7-9131-4c04-a01b-defaa425d47b",
   "metadata": {},
   "outputs": [
    {
     "name": "stderr",
     "output_type": "stream",
     "text": [
      "/disk4/github/wrightmikea/DMOSpeech2/.venv/lib/python3.10/site-packages/jieba/_compat.py:18: UserWarning: pkg_resources is deprecated as an API. See https://setuptools.pypa.io/en/latest/pkg_resources.html. The pkg_resources package is slated for removal as early as 2025-11-30. Refrain from using this package or pin to Setuptools<81.\n",
      "  import pkg_resources\n",
      "Building prefix dict from the default dictionary ...\n",
      "Loading model from cache /tmp/jieba.cache\n",
      "Loading model cost 0.575 seconds.\n",
      "Prefix dict has been built successfully.\n"
     ]
    },
    {
     "name": "stdout",
     "output_type": "stream",
     "text": [
      "Word segmentation module jieba initialized.\n",
      "\n"
     ]
    },
    {
     "name": "stderr",
     "output_type": "stream",
     "text": [
      "/disk4/github/wrightmikea/DMOSpeech2/.venv/lib/python3.10/site-packages/tqdm/auto.py:21: TqdmWarning: IProgress not found. Please update jupyter and ipywidgets. See https://ipywidgets.readthedocs.io/en/stable/user_install.html\n",
      "  from .autonotebook import tqdm as notebook_tqdm\n"
     ]
    },
    {
     "name": "stdout",
     "output_type": "stream",
     "text": [
      "f5_tts.model contents: ['CFM', 'DiT', 'MMDiT', 'Trainer', 'UNetT', '__all__', '__builtins__', '__cached__', '__doc__', '__file__', '__loader__', '__name__', '__package__', '__path__', '__spec__', 'backbones', 'cfm', 'dataset', 'modules', 'trainer', 'utils']\n"
     ]
    }
   ],
   "source": [
    "import sys\n",
    "sys.path.insert(0, \"./src\")\n",
    "\n",
    "import f5_tts.model\n",
    "print(\"f5_tts.model contents:\", dir(f5_tts.model))\n"
   ]
  },
  {
   "cell_type": "code",
   "execution_count": 2,
   "id": "c8999bdf-ce17-4fad-b212-65bb72dfae2b",
   "metadata": {},
   "outputs": [
    {
     "name": "stdout",
     "output_type": "stream",
     "text": [
      "duration_predictor contents: ['PositionalEncoding', 'SpeechLengthPredictor', '__builtins__', '__cached__', '__doc__', '__file__', '__loader__', '__name__', '__package__', '__spec__', 'calculate_remaining_lengths', 'nn', 'torch']\n"
     ]
    }
   ],
   "source": [
    "import duration_predictor\n",
    "print(\"duration_predictor contents:\", dir(duration_predictor))\n"
   ]
  },
  {
   "cell_type": "code",
   "execution_count": 3,
   "id": "b6ee6596-c1c1-46e1-834c-3b97b53dd5ab",
   "metadata": {},
   "outputs": [
    {
     "name": "stdout",
     "output_type": "stream",
     "text": [
      "guidance_model contents: ['Callable', 'ConformerCTC', 'ConformerDiscirminator', 'DiT', 'ECAPA_TDNN', 'F', 'Guidance', 'NoOpContext', '__builtins__', '__cached__', '__doc__', '__file__', '__loader__', '__name__', '__package__', '__spec__', '_kl_dist_func', 'annotations', 'default', 'exists', 'lens_to_mask', 'list_str_to_idx', 'list_str_to_tensor', 'mask_from_frac_lengths', 'nn', 'np', 'predict_flow', 'random', 'torch']\n"
     ]
    }
   ],
   "source": [
    "import guidance_model\n",
    "print(\"guidance_model contents:\", dir(guidance_model))\n"
   ]
  },
  {
   "cell_type": "code",
   "execution_count": 4,
   "id": "8dedf4b0-fe23-49f0-b57a-70dd8f75b182",
   "metadata": {},
   "outputs": [
    {
     "name": "stdout",
     "output_type": "stream",
     "text": [
      "Current directory explicitly is: /disk4/github/wrightmikea/DMOSpeech2/src\n"
     ]
    }
   ],
   "source": [
    "import os\n",
    "print(\"Current directory explicitly is:\", os.getcwd())\n",
    "#print(\"Explicit contents of ckpts folder:\", os.listdir('ckpts'))"
   ]
  },
  {
   "cell_type": "code",
   "execution_count": 5,
   "id": "1d7b8992-2d50-4bd1-a8c2-0bc81bc3e768",
   "metadata": {},
   "outputs": [
    {
     "ename": "AttributeError",
     "evalue": "'str' object has no attribute 'time_embed2'",
     "output_type": "error",
     "traceback": [
      "\u001b[0;31m---------------------------------------------------------------------------\u001b[0m",
      "\u001b[0;31mAttributeError\u001b[0m                            Traceback (most recent call last)",
      "Cell \u001b[0;32mIn[5], line 26\u001b[0m\n\u001b[1;32m     23\u001b[0m prompt_tokenizer \u001b[38;5;241m=\u001b[39m AutoTokenizer\u001b[38;5;241m.\u001b[39mfrom_pretrained(\u001b[38;5;124m\"\u001b[39m\u001b[38;5;124mbert-base-chinese\u001b[39m\u001b[38;5;124m\"\u001b[39m)\n\u001b[1;32m     25\u001b[0m \u001b[38;5;66;03m# Explicit correct model instantiation from original notebook logic\u001b[39;00m\n\u001b[0;32m---> 26\u001b[0m mel_model \u001b[38;5;241m=\u001b[39m \u001b[43mUniModel\u001b[49m\u001b[43m(\u001b[49m\u001b[43mmodel\u001b[49m\u001b[38;5;241;43m=\u001b[39;49m\u001b[38;5;124;43m'\u001b[39;49m\u001b[38;5;124;43mcfm\u001b[39;49m\u001b[38;5;124;43m'\u001b[39;49m\u001b[43m)\u001b[49m\u001b[38;5;241m.\u001b[39mto(DEVICE)\n\u001b[1;32m     27\u001b[0m mel_model\u001b[38;5;241m.\u001b[39mload_state_dict(torch\u001b[38;5;241m.\u001b[39mload(\u001b[38;5;124m\"\u001b[39m\u001b[38;5;124m../ckpts/model_85000.pt\u001b[39m\u001b[38;5;124m\"\u001b[39m))\n\u001b[1;32m     28\u001b[0m mel_model\u001b[38;5;241m.\u001b[39meval()\n",
      "File \u001b[0;32m/disk4/github/wrightmikea/DMOSpeech2/src/unimodel.py:79\u001b[0m, in \u001b[0;36mUniModel.__init__\u001b[0;34m(self, model, checkpoint_path, second_time, use_fp16, real_guidance_scale, fake_guidance_scale, gen_cls_loss, sway_coeff, vocab_char_map, frac_lengths_mask)\u001b[0m\n\u001b[1;32m     76\u001b[0m     \u001b[38;5;28mself\u001b[39m\u001b[38;5;241m.\u001b[39mscale \u001b[38;5;241m=\u001b[39m \u001b[38;5;241m1.0\u001b[39m\n\u001b[1;32m     78\u001b[0m real_unet \u001b[38;5;241m=\u001b[39m copy\u001b[38;5;241m.\u001b[39mdeepcopy(model)\n\u001b[0;32m---> 79\u001b[0m \u001b[43mreal_unet\u001b[49m\u001b[38;5;241;43m.\u001b[39;49m\u001b[43mtime_embed2\u001b[49m \u001b[38;5;241m=\u001b[39m \u001b[38;5;28;01mNone\u001b[39;00m\n\u001b[1;32m     81\u001b[0m fake_unet \u001b[38;5;241m=\u001b[39m copy\u001b[38;5;241m.\u001b[39mdeepcopy(model)\n\u001b[1;32m     83\u001b[0m \u001b[38;5;66;03m# Instantiate Guidance, which internally uses real_unet and fake_unet initialized from the teacher\u001b[39;00m\n",
      "\u001b[0;31mAttributeError\u001b[0m: 'str' object has no attribute 'time_embed2'"
     ]
    }
   ],
   "source": [
    "import sys\n",
    "sys.path.insert(0, \"./src\")\n",
    "\n",
    "from fastapi import FastAPI, UploadFile, File, Form\n",
    "from fastapi.responses import FileResponse, JSONResponse\n",
    "import torchaudio\n",
    "import torch\n",
    "import uuid\n",
    "import nest_asyncio\n",
    "import uvicorn\n",
    "\n",
    "from transformers import AutoTokenizer\n",
    "from unimodel import UniModel\n",
    "from duration_predictor import SpeechLengthPredictor\n",
    "from guidance_model import Guidance\n",
    "\n",
    "nest_asyncio.apply()\n",
    "\n",
    "DEVICE = \"cuda\" if torch.cuda.is_available() else \"cpu\"\n",
    "\n",
    "# Explicit tokenizer initialization\n",
    "tokenizer = AutoTokenizer.from_pretrained(\"bert-base-chinese\")\n",
    "prompt_tokenizer = AutoTokenizer.from_pretrained(\"bert-base-chinese\")\n",
    "\n",
    "# Explicit correct model instantiation from original notebook logic\n",
    "mel_model = UniModel(model='cfm').to(DEVICE)\n",
    "mel_model.load_state_dict(torch.load(\"../ckpts/model_85000.pt\"))\n",
    "mel_model.eval()\n",
    "\n",
    "duration_model = SpeechLengthPredictor().to(DEVICE)\n",
    "duration_model.load_state_dict(torch.load(\"../ckpts/model_1500.pt\"))\n",
    "duration_model.eval()\n",
    "\n",
    "guidance_model = Guidance().to(DEVICE)\n",
    "guidance_model.eval()\n",
    "\n",
    "app = FastAPI()\n",
    "\n",
    "style_state = {\"wav\": None, \"prompt_ids\": None}\n",
    "\n",
    "@app.post(\"/init_voice\")\n",
    "async def init_voice(audio_file: UploadFile = File(...), reference_text: str = Form(...)):\n",
    "    wav, sr = torchaudio.load(audio_file.file)\n",
    "    if sr != 22050:\n",
    "        wav = torchaudio.functional.resample(wav, orig_freq=sr, new_freq=22050)\n",
    "    style_state[\"wav\"] = wav.unsqueeze(0).to(DEVICE)\n",
    "    style_state[\"prompt_ids\"] = prompt_tokenizer.encode(reference_text, return_tensors=\"pt\").to(DEVICE)\n",
    "    return JSONResponse({\"status\": \"Voice style initialized.\"})\n",
    "\n",
    "@app.post(\"/generate_audio\")\n",
    "async def generate_audio(target_text: str = Form(...)):\n",
    "    if style_state[\"wav\"] is None or style_state[\"prompt_ids\"] is None:\n",
    "        return JSONResponse({\"error\": \"Initialize voice first.\"}, status_code=400)\n",
    "\n",
    "    tgt_ids = tokenizer.encode(target_text, return_tensors=\"pt\").to(DEVICE)\n",
    "\n",
    "    with torch.no_grad():\n",
    "        duration_pred = duration_model(style_state[\"wav\"], style_state[\"prompt_ids\"])\n",
    "        generated_mel = mel_model.infer(\n",
    "            style_state[\"wav\"], style_state[\"prompt_ids\"], tgt_ids,\n",
    "            duration_pred, guidance_model\n",
    "        )\n",
    "\n",
    "    waveform = torchaudio.functional.griffinlim(generated_mel.squeeze().cpu(), n_fft=1024)\n",
    "    filename = f\"/tmp/{uuid.uuid4().hex}.wav\"\n",
    "    torchaudio.save(filename, waveform.unsqueeze(0), 22050)\n",
    "\n",
    "    return FileResponse(filename, media_type='audio/wav', filename=\"generated.wav\")\n",
    "\n",
    "uvicorn.run(app, host=\"0.0.0.0\", port=8000)\n"
   ]
  }
 ],
 "metadata": {
  "kernelspec": {
   "display_name": "Python 3 (ipykernel)",
   "language": "python",
   "name": "python3"
  },
  "language_info": {
   "codemirror_mode": {
    "name": "ipython",
    "version": 3
   },
   "file_extension": ".py",
   "mimetype": "text/x-python",
   "name": "python",
   "nbconvert_exporter": "python",
   "pygments_lexer": "ipython3",
   "version": "3.10.17"
  }
 },
 "nbformat": 4,
 "nbformat_minor": 5
}
