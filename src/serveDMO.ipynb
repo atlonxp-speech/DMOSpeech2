{
 "cells": [
  {
   "cell_type": "code",
   "execution_count": 1,
   "id": "dd38b2b7-9131-4c04-a01b-defaa425d47b",
   "metadata": {},
   "outputs": [
    {
     "name": "stderr",
     "output_type": "stream",
     "text": [
      "/home/mike/github/wrightmikea/DMOSpeech2/.venv/lib/python3.10/site-packages/jieba/_compat.py:18: UserWarning: pkg_resources is deprecated as an API. See https://setuptools.pypa.io/en/latest/pkg_resources.html. The pkg_resources package is slated for removal as early as 2025-11-30. Refrain from using this package or pin to Setuptools<81.\n",
      "  import pkg_resources\n",
      "Building prefix dict from the default dictionary ...\n",
      "Loading model from cache /tmp/jieba.cache\n",
      "Loading model cost 0.551 seconds.\n",
      "Prefix dict has been built successfully.\n"
     ]
    },
    {
     "name": "stdout",
     "output_type": "stream",
     "text": [
      "Word segmentation module jieba initialized.\n",
      "\n"
     ]
    },
    {
     "name": "stderr",
     "output_type": "stream",
     "text": [
      "/home/mike/github/wrightmikea/DMOSpeech2/.venv/lib/python3.10/site-packages/tqdm/auto.py:21: TqdmWarning: IProgress not found. Please update jupyter and ipywidgets. See https://ipywidgets.readthedocs.io/en/stable/user_install.html\n",
      "  from .autonotebook import tqdm as notebook_tqdm\n"
     ]
    },
    {
     "name": "stdout",
     "output_type": "stream",
     "text": [
      "f5_tts.model contents: ['CFM', 'DiT', 'MMDiT', 'Trainer', 'UNetT', '__all__', '__builtins__', '__cached__', '__doc__', '__file__', '__loader__', '__name__', '__package__', '__path__', '__spec__', 'backbones', 'cfm', 'dataset', 'modules', 'trainer', 'utils']\n"
     ]
    }
   ],
   "source": [
    "import sys\n",
    "sys.path.insert(0, \"./src\")\n",
    "\n",
    "import f5_tts.model\n",
    "print(\"f5_tts.model contents:\", dir(f5_tts.model))\n"
   ]
  },
  {
   "cell_type": "code",
   "execution_count": 2,
   "id": "c8999bdf-ce17-4fad-b212-65bb72dfae2b",
   "metadata": {},
   "outputs": [
    {
     "name": "stdout",
     "output_type": "stream",
     "text": [
      "duration_predictor contents: ['PositionalEncoding', 'SpeechLengthPredictor', '__builtins__', '__cached__', '__doc__', '__file__', '__loader__', '__name__', '__package__', '__spec__', 'calculate_remaining_lengths', 'nn', 'torch']\n"
     ]
    }
   ],
   "source": [
    "import duration_predictor\n",
    "print(\"duration_predictor contents:\", dir(duration_predictor))\n"
   ]
  },
  {
   "cell_type": "code",
   "execution_count": 3,
   "id": "b6ee6596-c1c1-46e1-834c-3b97b53dd5ab",
   "metadata": {},
   "outputs": [
    {
     "name": "stdout",
     "output_type": "stream",
     "text": [
      "guidance_model contents: ['Callable', 'ConformerCTC', 'ConformerDiscirminator', 'DiT', 'ECAPA_TDNN', 'F', 'Guidance', 'NoOpContext', '__builtins__', '__cached__', '__doc__', '__file__', '__loader__', '__name__', '__package__', '__spec__', '_kl_dist_func', 'annotations', 'default', 'exists', 'lens_to_mask', 'list_str_to_idx', 'list_str_to_tensor', 'mask_from_frac_lengths', 'nn', 'np', 'predict_flow', 'random', 'torch']\n"
     ]
    }
   ],
   "source": [
    "import guidance_model\n",
    "print(\"guidance_model contents:\", dir(guidance_model))\n"
   ]
  },
  {
   "cell_type": "code",
   "execution_count": 4,
   "id": "8dedf4b0-fe23-49f0-b57a-70dd8f75b182",
   "metadata": {},
   "outputs": [
    {
     "name": "stdout",
     "output_type": "stream",
     "text": [
      "Current directory explicitly is: /home/mike/github/wrightmikea/DMOSpeech2/src\n"
     ]
    }
   ],
   "source": [
    "import os\n",
    "print(\"Current directory explicitly is:\", os.getcwd())\n",
    "#print(\"Explicit contents of ckpts folder:\", os.listdir('ckpts'))"
   ]
  },
  {
   "cell_type": "code",
   "execution_count": null,
   "id": "1d7b8992-2d50-4bd1-a8c2-0bc81bc3e768",
   "metadata": {},
   "outputs": [
    {
     "name": "stdout",
     "output_type": "stream",
     "text": [
      "Download Vocos from huggingface charactr/vocos-mel-24khz\n"
     ]
    },
    {
     "name": "stderr",
     "output_type": "stream",
     "text": [
      "INFO:     Started server process [17682]\n",
      "INFO:     Waiting for application startup.\n",
      "INFO:     Application startup complete.\n",
      "INFO:     Uvicorn running on http://0.0.0.0:8000 (Press CTRL+C to quit)\n"
     ]
    },
    {
     "name": "stdout",
     "output_type": "stream",
     "text": [
      "INFO:     192.168.1.246:58189 - \"POST /init_voice HTTP/1.1\" 200 OK\n",
      "Converting audio...\n",
      "Using custom reference text...\n",
      "\n",
      "ref_text   Is ant it ironic?. \n",
      "INFO:     192.168.1.246:58244 - \"POST /generate_audio HTTP/1.1\" 200 OK\n"
     ]
    }
   ],
   "source": [
    "import sys\n",
    "sys.path.insert(0, \"./src\")\n",
    "\n",
    "from fastapi import FastAPI, UploadFile, File, Form\n",
    "from fastapi.responses import FileResponse, JSONResponse\n",
    "import torchaudio\n",
    "import torch\n",
    "import uuid\n",
    "import nest_asyncio\n",
    "import uvicorn\n",
    "\n",
    "from infer import DMOInference\n",
    "\n",
    "nest_asyncio.apply()\n",
    "\n",
    "DEVICE = \"cuda\" if torch.cuda.is_available() else \"cpu\"\n",
    "\n",
    "# Initialize the DMO inference model (matching working dmo_tts_api.py)\n",
    "tts = DMOInference(\n",
    "    student_checkpoint_path=\"../ckpts/model_85000.pt\",\n",
    "    duration_predictor_path=\"../ckpts/model_1500.pt\",\n",
    "    device=DEVICE,\n",
    "    model_type=\"F5TTS_Base\"\n",
    ")\n",
    "\n",
    "app = FastAPI()\n",
    "\n",
    "# Explicit state storage for reference voice (matching working pattern)\n",
    "style_state = {\"prompt_audio\": None, \"prompt_text\": None}\n",
    "\n",
    "@app.post(\"/init_voice\")\n",
    "async def init_voice(audio_file: UploadFile = File(...), reference_text: str = Form(...)):\n",
    "    audio_data, sr = torchaudio.load(audio_file.file)\n",
    "    audio_path = f\"/tmp/{uuid.uuid4().hex}_ref.wav\"\n",
    "    torchaudio.save(audio_path, audio_data, sr)\n",
    "    \n",
    "    style_state[\"prompt_audio\"] = audio_path\n",
    "    style_state[\"prompt_text\"] = reference_text\n",
    "    \n",
    "    return JSONResponse({\"status\": \"Voice style initialized.\", \"audio_saved\": audio_path})\n",
    "\n",
    "@app.post(\"/generate_audio\")\n",
    "async def generate_audio(target_text: str = Form(...)):\n",
    "    if style_state[\"prompt_audio\"] is None or style_state[\"prompt_text\"] is None:\n",
    "        return JSONResponse({\"error\": \"Initialize voice first.\"}, status_code=400)\n",
    "\n",
    "    with torch.no_grad():\n",
    "        generated_audio = tts.generate(\n",
    "            gen_text=target_text,\n",
    "            audio_path=style_state[\"prompt_audio\"],\n",
    "            prompt_text=style_state[\"prompt_text\"]\n",
    "        )\n",
    "\n",
    "    audio_tensor = torch.from_numpy(generated_audio).unsqueeze(0)\n",
    "    filename = f\"/tmp/{uuid.uuid4().hex}_gen.wav\"\n",
    "    torchaudio.save(filename, audio_tensor, 24000)\n",
    "\n",
    "    return FileResponse(filename, media_type='audio/wav', filename=\"generated.wav\")\n",
    "\n",
    "uvicorn.run(app, host=\"0.0.0.0\", port=8000)"
   ]
  }
 ],
 "metadata": {
  "kernelspec": {
   "display_name": "Python 3 (ipykernel)",
   "language": "python",
   "name": "python3"
  },
  "language_info": {
   "codemirror_mode": {
    "name": "ipython",
    "version": 3
   },
   "file_extension": ".py",
   "mimetype": "text/x-python",
   "name": "python",
   "nbconvert_exporter": "python",
   "pygments_lexer": "ipython3",
   "version": "3.10.18"
  }
 },
 "nbformat": 4,
 "nbformat_minor": 5
}
