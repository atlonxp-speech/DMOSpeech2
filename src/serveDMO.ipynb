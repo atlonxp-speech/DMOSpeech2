{
 "cells": [
  {
   "cell_type": "code",
   "execution_count": 1,
   "id": "dd38b2b7-9131-4c04-a01b-defaa425d47b",
   "metadata": {},
   "outputs": [
    {
     "name": "stderr",
     "output_type": "stream",
     "text": [
      "/home/mike/github/wrightmikea/DMOSpeech2/.venv/lib/python3.10/site-packages/jieba/_compat.py:18: UserWarning: pkg_resources is deprecated as an API. See https://setuptools.pypa.io/en/latest/pkg_resources.html. The pkg_resources package is slated for removal as early as 2025-11-30. Refrain from using this package or pin to Setuptools<81.\n",
      "  import pkg_resources\n",
      "Building prefix dict from the default dictionary ...\n",
      "Loading model from cache /tmp/jieba.cache\n",
      "Loading model cost 0.635 seconds.\n",
      "Prefix dict has been built successfully.\n"
     ]
    },
    {
     "name": "stdout",
     "output_type": "stream",
     "text": [
      "Word segmentation module jieba initialized.\n",
      "\n"
     ]
    },
    {
     "name": "stderr",
     "output_type": "stream",
     "text": [
      "/home/mike/github/wrightmikea/DMOSpeech2/.venv/lib/python3.10/site-packages/tqdm/auto.py:21: TqdmWarning: IProgress not found. Please update jupyter and ipywidgets. See https://ipywidgets.readthedocs.io/en/stable/user_install.html\n",
      "  from .autonotebook import tqdm as notebook_tqdm\n"
     ]
    },
    {
     "name": "stdout",
     "output_type": "stream",
     "text": [
      "f5_tts.model contents: ['CFM', 'DiT', 'MMDiT', 'Trainer', 'UNetT', '__all__', '__builtins__', '__cached__', '__doc__', '__file__', '__loader__', '__name__', '__package__', '__path__', '__spec__', 'backbones', 'cfm', 'dataset', 'modules', 'trainer', 'utils']\n"
     ]
    }
   ],
   "source": [
    "import sys\n",
    "sys.path.insert(0, \"./src\")\n",
    "\n",
    "import f5_tts.model\n",
    "print(\"f5_tts.model contents:\", dir(f5_tts.model))\n"
   ]
  },
  {
   "cell_type": "code",
   "execution_count": 2,
   "id": "c8999bdf-ce17-4fad-b212-65bb72dfae2b",
   "metadata": {},
   "outputs": [
    {
     "name": "stdout",
     "output_type": "stream",
     "text": [
      "duration_predictor contents: ['PositionalEncoding', 'SpeechLengthPredictor', '__builtins__', '__cached__', '__doc__', '__file__', '__loader__', '__name__', '__package__', '__spec__', 'calculate_remaining_lengths', 'nn', 'torch']\n"
     ]
    }
   ],
   "source": [
    "import duration_predictor\n",
    "print(\"duration_predictor contents:\", dir(duration_predictor))\n"
   ]
  },
  {
   "cell_type": "code",
   "execution_count": 3,
   "id": "b6ee6596-c1c1-46e1-834c-3b97b53dd5ab",
   "metadata": {},
   "outputs": [
    {
     "name": "stdout",
     "output_type": "stream",
     "text": [
      "guidance_model contents: ['Callable', 'ConformerCTC', 'ConformerDiscirminator', 'DiT', 'ECAPA_TDNN', 'F', 'Guidance', 'NoOpContext', '__builtins__', '__cached__', '__doc__', '__file__', '__loader__', '__name__', '__package__', '__spec__', '_kl_dist_func', 'annotations', 'default', 'exists', 'lens_to_mask', 'list_str_to_idx', 'list_str_to_tensor', 'mask_from_frac_lengths', 'nn', 'np', 'predict_flow', 'random', 'torch']\n"
     ]
    }
   ],
   "source": [
    "import guidance_model\n",
    "print(\"guidance_model contents:\", dir(guidance_model))\n"
   ]
  },
  {
   "cell_type": "code",
   "execution_count": 4,
   "id": "8dedf4b0-fe23-49f0-b57a-70dd8f75b182",
   "metadata": {},
   "outputs": [
    {
     "name": "stdout",
     "output_type": "stream",
     "text": [
      "Current directory explicitly is: /home/mike/github/wrightmikea/DMOSpeech2/src\n"
     ]
    }
   ],
   "source": [
    "import os\n",
    "print(\"Current directory explicitly is:\", os.getcwd())\n",
    "#print(\"Explicit contents of ckpts folder:\", os.listdir('ckpts'))"
   ]
  },
  {
   "cell_type": "code",
   "execution_count": null,
   "id": "1d7b8992-2d50-4bd1-a8c2-0bc81bc3e768",
   "metadata": {},
   "outputs": [],
   "source": "import sys\nsys.path.insert(0, \"./src\")\n\nfrom fastapi import FastAPI, UploadFile, File, Form\nfrom fastapi.responses import FileResponse, JSONResponse\nimport torchaudio\nimport torch\nimport uuid\nimport nest_asyncio\nimport uvicorn\n\nfrom transformers import AutoTokenizer\nfrom unimodel import UniModel\nfrom duration_predictor import SpeechLengthPredictor\nfrom guidance_model import Guidance\nfrom f5_tts.model import DiT\nfrom f5_tts.model.utils import get_tokenizer\n\nnest_asyncio.apply()\n\nDEVICE = \"cuda\" if torch.cuda.is_available() else \"cpu\"\n\n# Setup tokenizer and vocabulary (matching infer.py pattern)\nvocab_char_map, vocab_size = get_tokenizer(\"Emilia_ZH_EN\", \"pinyin\")\n\n# Create DiT model with proper configuration (F5TTS_Base config from infer.py)\ndit_model = DiT(\n    dim=1024, \n    depth=22, \n    heads=16, \n    ff_mult=2, \n    text_dim=512, \n    conv_layers=4,\n    text_num_embeds=vocab_size,\n    mel_dim=100,\n    second_time=True  # num_student_step > 1\n)\n\n# Initialize UniModel with the actual DiT model\nmel_model = UniModel(\n    model=dit_model,\n    checkpoint_path=\"\",\n    vocab_char_map=vocab_char_map,\n    frac_lengths_mask=(0.5, 0.9),\n    real_guidance_scale=2.0,\n    fake_guidance_scale=0.0,\n    gen_cls_loss=False,\n    sway_coeff=0\n).to(DEVICE)\n\n# Load checkpoint\ncheckpoint = torch.load(\"../ckpts/model_85000.pt\", map_location='cpu')\nmel_model.load_state_dict(checkpoint['model_state_dict'], strict=False)\nmel_model.eval()\n\n# Initialize SpeechLengthPredictor with correct parameters (matching infer.py)\nduration_model = SpeechLengthPredictor(\n    vocab_size=2545,\n    n_mel=100,\n    hidden_dim=512,\n    n_text_layer=4,\n    n_cross_layer=4,\n    n_head=8,\n    output_dim=301\n).to(DEVICE)\n\n# Load duration predictor checkpoint\nduration_checkpoint = torch.load(\"../ckpts/model_1500.pt\", map_location='cpu')\nduration_model.load_state_dict(duration_checkpoint['model_state_dict'])\nduration_model.eval()\n\napp = FastAPI()\n\nstyle_state = {\"wav\": None, \"prompt_ids\": None}\n\n@app.post(\"/init_voice\")\nasync def init_voice(audio_file: UploadFile = File(...), reference_text: str = Form(...)):\n    wav, sr = torchaudio.load(audio_file.file)\n    if sr != 22050:\n        wav = torchaudio.functional.resample(wav, orig_freq=sr, new_freq=22050)\n    style_state[\"wav\"] = wav.unsqueeze(0).to(DEVICE)\n    \n    # Use proper tokenizer encoding - list_str_to_idx returns a list of indices\n    from f5_tts.model.utils import list_str_to_idx\n    prompt_ids = list_str_to_idx([reference_text], vocab_char_map)[0]\n    style_state[\"prompt_ids\"] = torch.tensor(prompt_ids, dtype=torch.long).unsqueeze(0).to(DEVICE)\n    \n    return JSONResponse({\"status\": \"Voice style initialized.\"})\n\n@app.post(\"/generate_audio\")\nasync def generate_audio(target_text: str = Form(...)):\n    if style_state[\"wav\"] is None or style_state[\"prompt_ids\"] is None:\n        return JSONResponse({\"error\": \"Initialize voice first.\"}, status_code=400)\n\n    # Use proper tokenizer encoding\n    from f5_tts.model.utils import list_str_to_idx\n    tgt_ids = list_str_to_idx([target_text], vocab_char_map)[0] \n    tgt_ids = torch.tensor(tgt_ids, dtype=torch.long).unsqueeze(0).to(DEVICE)\n\n    with torch.no_grad():\n        duration_pred = duration_model(style_state[\"wav\"], style_state[\"prompt_ids\"])\n        generated_mel = mel_model.infer(\n            style_state[\"wav\"], style_state[\"prompt_ids\"], tgt_ids,\n            duration_pred\n        )\n\n    waveform = torchaudio.functional.griffinlim(generated_mel.squeeze().cpu(), n_fft=1024)\n    filename = f\"/tmp/{uuid.uuid4().hex}.wav\"\n    torchaudio.save(filename, waveform.unsqueeze(0), 22050)\n\n    return FileResponse(filename, media_type='audio/wav', filename=\"generated.wav\")\n\nuvicorn.run(app, host=\"0.0.0.0\", port=8000)"
  }
 ],
 "metadata": {
  "kernelspec": {
   "display_name": "Python 3 (ipykernel)",
   "language": "python",
   "name": "python3"
  },
  "language_info": {
   "codemirror_mode": {
    "name": "ipython",
    "version": 3
   },
   "file_extension": ".py",
   "mimetype": "text/x-python",
   "name": "python",
   "nbconvert_exporter": "python",
   "pygments_lexer": "ipython3",
   "version": "3.10.18"
  }
 },
 "nbformat": 4,
 "nbformat_minor": 5
}